{
 "cells": [
  {
   "cell_type": "markdown",
   "metadata": {
    "id": "7hENKKQ6_rg_"
   },
   "source": [
    "# 10. Morphological operations"
   ]
  },
  {
   "cell_type": "markdown",
   "metadata": {
    "id": "r__xBJzh_rhE"
   },
   "source": [
    "After the thresholding operation, one has a binary mask which is usually imperfect: object might have rough boundaries, holes etc.\n",
    "\n",
    "Morphological operations are very commonly used to correct such masks. We focus here in particular on binary operations, i.e. operations acting on black and white images.\n",
    "\n",
    "Let's import packages and quickly recreate a mask to work on. **Notice that we have to specifically import the morphology module from skimage which is not included by default**"
   ]
  },
  {
   "cell_type": "code",
   "execution_count": 1,
   "metadata": {
    "executionInfo": {
     "elapsed": 1978,
     "status": "ok",
     "timestamp": 1616249818623,
     "user": {
      "displayName": "Guillaume Witz",
      "photoUrl": "https://lh3.googleusercontent.com/a-/AOh14GgT0K2JVYzEsjzsS5nhkUVjUrSIJ5jHzXnBoYrmVf8=s64",
      "userId": "16033870147214403532"
     },
     "user_tz": -60
    },
    "id": "Dw4TOXiE_rhF"
   },
   "outputs": [],
   "source": [
    "import numpy as np\n",
    "import matplotlib.pyplot as plt\n",
    "import skimage\n",
    "import skimage.io\n",
    "import skimage.morphology"
   ]
  },
  {
   "cell_type": "code",
   "execution_count": 2,
   "metadata": {
    "executionInfo": {
     "elapsed": 2651,
     "status": "ok",
     "timestamp": 1616249819401,
     "user": {
      "displayName": "Guillaume Witz",
      "photoUrl": "https://lh3.googleusercontent.com/a-/AOh14GgT0K2JVYzEsjzsS5nhkUVjUrSIJ5jHzXnBoYrmVf8=s64",
      "userId": "16033870147214403532"
     },
     "user_tz": -60
    },
    "id": "TNrIsjVS_rhG"
   },
   "outputs": [],
   "source": [
    "#image_stack = skimage.io.imread('images/46658_784_B12_1.tif')\n",
    "image_stack = skimage.io.imread('https://github.com/guiwitz/PyImageCourse_beginner/raw/cellatlas/images/46658_784_B12_1.tif')\n",
    "image_nuclei = image_stack[:,:,2]\n",
    "my_otsu_threshold = skimage.filters.threshold_otsu(image_nuclei)\n",
    "mask_otsu = image_nuclei > my_otsu_threshold"
   ]
  },
  {
   "cell_type": "markdown",
   "metadata": {
    "id": "YEbHry14_rhG"
   },
   "source": [
    "And let's focus on a smaller region:"
   ]
  },
  {
   "cell_type": "code",
   "execution_count": 3,
   "metadata": {
    "executionInfo": {
     "elapsed": 533,
     "status": "ok",
     "timestamp": 1616249820630,
     "user": {
      "displayName": "Guillaume Witz",
      "photoUrl": "https://lh3.googleusercontent.com/a-/AOh14GgT0K2JVYzEsjzsS5nhkUVjUrSIJ5jHzXnBoYrmVf8=s64",
      "userId": "16033870147214403532"
     },
     "user_tz": -60
    },
    "id": "2QYgJqJ3_rhG"
   },
   "outputs": [],
   "source": [
    "cropped_mask = mask_otsu[750:1250,1400:1900].copy()\n",
    "cropped_image = image_nuclei[750:1250,1400:1900].copy()"
   ]
  },
  {
   "cell_type": "code",
   "execution_count": 4,
   "metadata": {
    "colab": {
     "base_uri": "https://localhost:8080/",
     "height": 268
    },
    "executionInfo": {
     "elapsed": 619,
     "status": "ok",
     "timestamp": 1616249825243,
     "user": {
      "displayName": "Guillaume Witz",
      "photoUrl": "https://lh3.googleusercontent.com/a-/AOh14GgT0K2JVYzEsjzsS5nhkUVjUrSIJ5jHzXnBoYrmVf8=s64",
      "userId": "16033870147214403532"
     },
     "user_tz": -60
    },
    "id": "XSOXArJB_rhH",
    "outputId": "ffb6f27f-2537-4c03-cd5a-7d5877a74bd2"
   },
   "outputs": [
    {
     "data": {
      "image/png": "[encoded data removed]",
      "text/plain": [
       "<Figure size 432x288 with 1 Axes>"
      ]
     },
     "metadata": {
      "needs_background": "light"
     },
     "output_type": "display_data"
    }
   ],
   "source": [
    "plt.imshow(cropped_mask, cmap = 'gray');"
   ]
  },
  {
   "cell_type": "markdown",
   "metadata": {
    "id": "ssqOrMo4_rhI"
   },
   "source": [
    "## 10.3 Erosion"
   ]
  },
  {
   "cell_type": "code",
   "execution_count": 5,
   "metadata": {
    "colab": {
     "base_uri": "https://localhost:8080/"
    },
    "executionInfo": {
     "elapsed": 636,
     "status": "ok",
     "timestamp": 1616249827999,
     "user": {
      "displayName": "Guillaume Witz",
      "photoUrl": "https://lh3.googleusercontent.com/a-/AOh14GgT0K2JVYzEsjzsS5nhkUVjUrSIJ5jHzXnBoYrmVf8=s64",
      "userId": "16033870147214403532"
     },
     "user_tz": -60
    },
    "id": "k387xFkh_rhI",
    "outputId": "129f9f05-0b3f-4b42-90d9-a6397d43991a"
   },
   "outputs": [
    {
     "name": "stdout",
     "output_type": "stream",
     "text": [
      "Help on function binary_erosion in module skimage.morphology.binary:\n",
      "\n",
      "binary_erosion(image, selem=None, out=None)\n",
      "    Return fast binary morphological erosion of an image.\n",
      "    \n",
      "    This function returns the same result as greyscale erosion but performs\n",
      "    faster for binary images.\n",
      "    \n",
      "    Morphological erosion sets a pixel at ``(i,j)`` to the minimum over all\n",
      "    pixels in the neighborhood centered at ``(i,j)``. Erosion shrinks bright\n",
      "    regions and enlarges dark regions.\n",
      "    \n",
      "    Parameters\n",
      "    ----------\n",
      "    image : ndarray\n",
      "        Binary input image.\n",
      "    selem : ndarray, optional\n",
      "        The neighborhood expressed as a 2-D array of 1's and 0's.\n",
      "        If None, use a cross-shaped structuring element (connectivity=1).\n",
      "    out : ndarray of bool, optional\n",
      "        The array to store the result of the morphology. If None is\n",
      "        passed, a new array will be allocated.\n",
      "    \n",
      "    Returns\n",
      "    -------\n",
      "    eroded : ndarray of bool or uint\n",
      "        The result of the morphological erosion taking values in\n",
      "        ``[False, True]``.\n",
      "\n"
     ]
    }
   ],
   "source": [
    "help(skimage.morphology.binary_erosion)"
   ]
  },
  {
   "cell_type": "markdown",
   "metadata": {
    "id": "dVsX4JqZ_rhI"
   },
   "source": [
    "Erosion does what one expects: it shrinks the white regions. But how does it work ? Each pixel is visited. If it is white, one asks if any pixel in the neighborhood is black. If yes that pixel turns black. Of course this will only happen to pixels on the edges, as pixels in the middle of the nuclei are surrounded by white pixels.\n",
    "\n",
    "We mentioned that the neighborhood is checked. The size of this neighborhood can be set by the user. For example we can observe a circular region around each pixel. The way to specify this neighborhood is give an image of it. Luckily, skimage has already implemented for us various shapes. For example a disk:"
   ]
  },
  {
   "cell_type": "code",
   "execution_count": 6,
   "metadata": {
    "colab": {
     "base_uri": "https://localhost:8080/"
    },
    "executionInfo": {
     "elapsed": 526,
     "status": "ok",
     "timestamp": 1616249830255,
     "user": {
      "displayName": "Guillaume Witz",
      "photoUrl": "https://lh3.googleusercontent.com/a-/AOh14GgT0K2JVYzEsjzsS5nhkUVjUrSIJ5jHzXnBoYrmVf8=s64",
      "userId": "16033870147214403532"
     },
     "user_tz": -60
    },
    "id": "hGWEdhKP_rhJ",
    "outputId": "5290f5d0-ef19-493f-d697-0a39d0209e9d"
   },
   "outputs": [
    {
     "name": "stdout",
     "output_type": "stream",
     "text": [
      "Help on function disk in module skimage.morphology.selem:\n",
      "\n",
      "disk(radius, dtype=<class 'numpy.uint8'>)\n",
      "    Generates a flat, disk-shaped structuring element.\n",
      "    \n",
      "    A pixel is within the neighborhood if the Euclidean distance between\n",
      "    it and the origin is no greater than radius.\n",
      "    \n",
      "    Parameters\n",
      "    ----------\n",
      "    radius : int\n",
      "        The radius of the disk-shaped structuring element.\n",
      "    \n",
      "    Other Parameters\n",
      "    ----------------\n",
      "    dtype : data-type\n",
      "        The data type of the structuring element.\n",
      "    \n",
      "    Returns\n",
      "    -------\n",
      "    selem : ndarray\n",
      "        The structuring element where elements of the neighborhood\n",
      "        are 1 and 0 otherwise.\n",
      "\n"
     ]
    }
   ],
   "source": [
    "help(skimage.morphology.disk)"
   ]
  },
  {
   "cell_type": "code",
   "execution_count": 7,
   "metadata": {
    "colab": {
     "base_uri": "https://localhost:8080/",
     "height": 265
    },
    "executionInfo": {
     "elapsed": 707,
     "status": "ok",
     "timestamp": 1616249835988,
     "user": {
      "displayName": "Guillaume Witz",
      "photoUrl": "https://lh3.googleusercontent.com/a-/AOh14GgT0K2JVYzEsjzsS5nhkUVjUrSIJ5jHzXnBoYrmVf8=s64",
      "userId": "16033870147214403532"
     },
     "user_tz": -60
    },
    "id": "JVbEYF5f_rhJ",
    "outputId": "538753b9-89b4-44bf-86e1-8a3cecdb1376"
   },
   "outputs": [
    {
     "data": {
      "image/png": "[encoded data removed]",
      "text/plain": [
       "<Figure size 432x288 with 1 Axes>"
      ]
     },
     "metadata": {
      "needs_background": "light"
     },
     "output_type": "display_data"
    }
   ],
   "source": [
    "my_disk = skimage.morphology.disk(3)\n",
    "\n",
    "plt.imshow(my_disk,cmap = 'gray');"
   ]
  },
  {
   "cell_type": "markdown",
   "metadata": {
    "id": "OITMN-q3_rhJ"
   },
   "source": [
    "Let's try to use this disk to erode our image:"
   ]
  },
  {
   "cell_type": "code",
   "execution_count": 8,
   "metadata": {
    "executionInfo": {
     "elapsed": 692,
     "status": "ok",
     "timestamp": 1616249839170,
     "user": {
      "displayName": "Guillaume Witz",
      "photoUrl": "https://lh3.googleusercontent.com/a-/AOh14GgT0K2JVYzEsjzsS5nhkUVjUrSIJ5jHzXnBoYrmVf8=s64",
      "userId": "16033870147214403532"
     },
     "user_tz": -60
    },
    "id": "bvfKjr0c_rhK"
   },
   "outputs": [],
   "source": [
    "my_eroded = skimage.morphology.binary_erosion(cropped_mask, selem=my_disk)"
   ]
  },
  {
   "cell_type": "code",
   "execution_count": 9,
   "metadata": {
    "colab": {
     "base_uri": "https://localhost:8080/",
     "height": 268
    },
    "executionInfo": {
     "elapsed": 818,
     "status": "ok",
     "timestamp": 1616249842129,
     "user": {
      "displayName": "Guillaume Witz",
      "photoUrl": "https://lh3.googleusercontent.com/a-/AOh14GgT0K2JVYzEsjzsS5nhkUVjUrSIJ5jHzXnBoYrmVf8=s64",
      "userId": "16033870147214403532"
     },
     "user_tz": -60
    },
    "id": "Chq6ieNU_rhK",
    "outputId": "599d1eee-d7f8-41ab-a718-fcfca2a1f4e1"
   },
   "outputs": [
    {
     "data": {
      "image/png": "[encoded data removed]",
      "text/plain": [
       "<Figure size 432x288 with 1 Axes>"
      ]
     },
     "metadata": {
      "needs_background": "light"
     },
     "output_type": "display_data"
    }
   ],
   "source": [
    "plt.imshow(my_eroded, cmap = 'gray');"
   ]
  },
  {
   "cell_type": "markdown",
   "metadata": {
    "id": "PsN7d2f6_rhK"
   },
   "source": [
    "To see what happened we can subtract the original and the eroded images:"
   ]
  },
  {
   "cell_type": "code",
   "execution_count": 10,
   "metadata": {
    "colab": {
     "base_uri": "https://localhost:8080/",
     "height": 268
    },
    "executionInfo": {
     "elapsed": 704,
     "status": "ok",
     "timestamp": 1616249848401,
     "user": {
      "displayName": "Guillaume Witz",
      "photoUrl": "https://lh3.googleusercontent.com/a-/AOh14GgT0K2JVYzEsjzsS5nhkUVjUrSIJ5jHzXnBoYrmVf8=s64",
      "userId": "16033870147214403532"
     },
     "user_tz": -60
    },
    "id": "eKPTM7Rx_rhK",
    "outputId": "ac6e2562-a1fd-4079-9897-787ceeb62b46"
   },
   "outputs": [
    {
     "data": {
      "image/png": "[encoded data removed]",
      "text/plain": [
       "<Figure size 432x288 with 1 Axes>"
      ]
     },
     "metadata": {
      "needs_background": "light"
     },
     "output_type": "display_data"
    }
   ],
   "source": [
    "plt.imshow(cropped_mask.astype(int) - my_eroded.astype(int), cmap = 'gray');"
   ]
  },
  {
   "cell_type": "markdown",
   "metadata": {
    "id": "L9u4JgxQ_rhK"
   },
   "source": [
    "What happends if we take an even larger neighborhood? "
   ]
  },
  {
   "cell_type": "code",
   "execution_count": 11,
   "metadata": {
    "colab": {
     "base_uri": "https://localhost:8080/",
     "height": 268
    },
    "executionInfo": {
     "elapsed": 619,
     "status": "ok",
     "timestamp": 1616249856184,
     "user": {
      "displayName": "Guillaume Witz",
      "photoUrl": "https://lh3.googleusercontent.com/a-/AOh14GgT0K2JVYzEsjzsS5nhkUVjUrSIJ5jHzXnBoYrmVf8=s64",
      "userId": "16033870147214403532"
     },
     "user_tz": -60
    },
    "id": "P5TTf44o_rhL",
    "outputId": "8548ea92-ea52-4813-c360-bb120aa50ab2"
   },
   "outputs": [
    {
     "data": {
      "image/png": "[encoded data removed]",
      "text/plain": [
       "<Figure size 432x288 with 1 Axes>"
      ]
     },
     "metadata": {
      "needs_background": "light"
     },
     "output_type": "display_data"
    }
   ],
   "source": [
    "my_disk = skimage.morphology.disk(5)\n",
    "my_eroded = skimage.morphology.binary_erosion(cropped_mask, selem=my_disk)\n",
    "plt.imshow(my_eroded, cmap = 'gray');"
   ]
  },
  {
   "cell_type": "markdown",
   "metadata": {
    "id": "THLlgOKg_rhL"
   },
   "source": [
    "We lost one of the nuclei, which was so small that none of its pixels was \"far enough\" from a black pixel."
   ]
  },
  {
   "cell_type": "markdown",
   "metadata": {
    "id": "DWovZqqy_rhL"
   },
   "source": [
    "## 10.4 Dilation"
   ]
  },
  {
   "cell_type": "markdown",
   "metadata": {
    "id": "MfoYehMn_rhL"
   },
   "source": [
    "Logically, dilation does the opposite of erosion: it visits every black pixel and verifies whether it has any white pixel in its neighborhood, and if yes turns it into white. Let's see an example:"
   ]
  },
  {
   "cell_type": "code",
   "execution_count": 12,
   "metadata": {
    "colab": {
     "base_uri": "https://localhost:8080/",
     "height": 268
    },
    "executionInfo": {
     "elapsed": 810,
     "status": "ok",
     "timestamp": 1616249865329,
     "user": {
      "displayName": "Guillaume Witz",
      "photoUrl": "https://lh3.googleusercontent.com/a-/AOh14GgT0K2JVYzEsjzsS5nhkUVjUrSIJ5jHzXnBoYrmVf8=s64",
      "userId": "16033870147214403532"
     },
     "user_tz": -60
    },
    "id": "_Gt2eWXC_rhL",
    "outputId": "578749d1-b828-4662-9c6d-cc8c62282031"
   },
   "outputs": [
    {
     "data": {
      "image/png": "[encoded data removed]",
      "text/plain": [
       "<Figure size 432x288 with 1 Axes>"
      ]
     },
     "metadata": {
      "needs_background": "light"
     },
     "output_type": "display_data"
    }
   ],
   "source": [
    "my_disk = skimage.morphology.disk(3)\n",
    "my_dilation = skimage.morphology.binary_dilation(cropped_mask, selem=my_disk)\n",
    "plt.imshow(my_dilation, cmap = 'gray');"
   ]
  },
  {
   "cell_type": "markdown",
   "metadata": {
    "id": "v4F25R5-_rhM"
   },
   "source": [
    "## 10.5 Combining operations"
   ]
  },
  {
   "cell_type": "markdown",
   "metadata": {
    "id": "JeD9I-51_rhM"
   },
   "source": [
    "An efficient way to \"clean-up\" an image is to apply a series of such operations. Let's imagine that we for example want to remove very small nuclei. We can successively erode and dilate the image to remove object smaller than some threshold:"
   ]
  },
  {
   "cell_type": "code",
   "execution_count": 13,
   "metadata": {
    "executionInfo": {
     "elapsed": 524,
     "status": "ok",
     "timestamp": 1616249868917,
     "user": {
      "displayName": "Guillaume Witz",
      "photoUrl": "https://lh3.googleusercontent.com/a-/AOh14GgT0K2JVYzEsjzsS5nhkUVjUrSIJ5jHzXnBoYrmVf8=s64",
      "userId": "16033870147214403532"
     },
     "user_tz": -60
    },
    "id": "-ATTy6Eq_rhM"
   },
   "outputs": [],
   "source": [
    "#1. Create neighborhood region\n",
    "my_disk = skimage.morphology.disk(5)\n",
    "\n",
    "#2. Erode the image to suppress small elements\n",
    "my_cleanimage = skimage.morphology.binary_erosion(cropped_mask, selem=my_disk)\n",
    "\n",
    "#3. Dilate the eroded image to recover objects of the right size\n",
    "my_cleanimage = skimage.morphology.binary_dilation(my_cleanimage, selem=my_disk)"
   ]
  },
  {
   "cell_type": "code",
   "execution_count": 14,
   "metadata": {
    "colab": {
     "base_uri": "https://localhost:8080/",
     "height": 268
    },
    "executionInfo": {
     "elapsed": 998,
     "status": "ok",
     "timestamp": 1616249872689,
     "user": {
      "displayName": "Guillaume Witz",
      "photoUrl": "https://lh3.googleusercontent.com/a-/AOh14GgT0K2JVYzEsjzsS5nhkUVjUrSIJ5jHzXnBoYrmVf8=s64",
      "userId": "16033870147214403532"
     },
     "user_tz": -60
    },
    "id": "9TJiDDJ5_rhM",
    "outputId": "1af50937-38ee-415c-9863-ccf46ea7eea0"
   },
   "outputs": [
    {
     "data": {
      "image/png": "[encoded data removed]",
      "text/plain": [
       "<Figure size 432x288 with 1 Axes>"
      ]
     },
     "metadata": {
      "needs_background": "light"
     },
     "output_type": "display_data"
    }
   ],
   "source": [
    "plt.imshow(my_cleanimage, cmap = 'gray');"
   ]
  },
  {
   "cell_type": "code",
   "execution_count": 15,
   "metadata": {
    "colab": {
     "base_uri": "https://localhost:8080/",
     "height": 268
    },
    "executionInfo": {
     "elapsed": 1325,
     "status": "ok",
     "timestamp": 1616249879608,
     "user": {
      "displayName": "Guillaume Witz",
      "photoUrl": "https://lh3.googleusercontent.com/a-/AOh14GgT0K2JVYzEsjzsS5nhkUVjUrSIJ5jHzXnBoYrmVf8=s64",
      "userId": "16033870147214403532"
     },
     "user_tz": -60
    },
    "id": "FYqxHAAK_rhN",
    "outputId": "67c44940-5690-4c94-9200-11ce667ec03b"
   },
   "outputs": [
    {
     "data": {
      "image/png": "[encoded data removed]",
      "text/plain": [
       "<Figure size 432x288 with 1 Axes>"
      ]
     },
     "metadata": {
      "needs_background": "light"
     },
     "output_type": "display_data"
    }
   ],
   "source": [
    "plt.imshow(cropped_mask, cmap = 'gray');"
   ]
  },
  {
   "cell_type": "markdown",
   "metadata": {
    "id": "YDdc9Kxa_rhN"
   },
   "source": [
    "Combining erosion and dilation is very common, so there exist specific operations for that: erosion followed by dilation is ```skimage.morphology.binary_opening``` while dilation followed by erosion is ```skimage.morphology.binary_closing```. The latter is useful for us to \"close holes\":"
   ]
  },
  {
   "cell_type": "code",
   "execution_count": 16,
   "metadata": {
    "id": "eaUrODqZ_rhN"
   },
   "outputs": [],
   "source": [
    "image_closing = skimage.morphology.binary_closing(cropped_mask, selem=skimage.morphology.disk(7))"
   ]
  },
  {
   "cell_type": "code",
   "execution_count": 17,
   "metadata": {},
   "outputs": [
    {
     "data": {
      "image/png": "[encoded data removed]",
      "text/plain": [
       "<Figure size 432x288 with 1 Axes>"
      ]
     },
     "metadata": {
      "needs_background": "light"
     },
     "output_type": "display_data"
    }
   ],
   "source": [
    "plt.imshow(image_closing, cmap = 'gray');"
   ]
  },
  {
   "cell_type": "code",
   "execution_count": null,
   "metadata": {},
   "outputs": [],
   "source": []
  }
 ],
 "metadata": {
  "colab": {
   "collapsed_sections": [],
   "name": "10-Morphology.ipynb",
   "provenance": []
  },
  "kernelspec": {
   "display_name": "Python 3.8.2 64-bit ('improc_beginner': conda)",
   "language": "python",
   "name": "python38264bitimprocbeginnerconda39ad08c9d37a432ab96d20f7868a11ff"
  },
  "language_info": {
   "codemirror_mode": {
    "name": "ipython",
    "version": 3
   },
   "file_extension": ".py",
   "mimetype": "text/x-python",
   "name": "python",
   "nbconvert_exporter": "python",
   "pygments_lexer": "ipython3",
   "version": "3.9.2"
  },
  "toc": {
   "base_numbering": 1,
   "nav_menu": {},
   "number_sections": false,
   "sideBar": true,
   "skip_h1_title": false,
   "title_cell": "Table of Contents",
   "title_sidebar": "Contents",
   "toc_cell": false,
   "toc_position": {},
   "toc_section_display": true,
   "toc_window_display": true
  }
 },
 "nbformat": 4,
 "nbformat_minor": 4
}
