{
 "cells": [
  {
   "cell_type": "markdown",
   "metadata": {},
   "source": [
    "# 10. Morphological operations"
   ]
  },
  {
   "cell_type": "markdown",
   "metadata": {},
   "source": [
    "After the thresholding operation, one has a binary mask which is usually imperfect: object might have rough boundaries, holes etc.\n",
    "\n",
    "Morphological operations are very commonly used to correct such masks. We focus here in particular on binary operations, i.e. operations acting on black and white images.\n",
    "\n",
    "Let's import packages and quickly recreate a mask to work on. **Notice that we have to specifically import the morphology module from skimage which is not included by default**"
   ]
  },
  {
   "cell_type": "code",
   "execution_count": 12,
   "metadata": {},
   "outputs": [],
   "source": [
    "import numpy as np\n",
    "import matplotlib.pyplot as plt\n",
    "import skimage\n",
    "import skimage.morphology"
   ]
  },
  {
   "cell_type": "code",
   "execution_count": 4,
   "metadata": {},
   "outputs": [],
   "source": [
    "#image_stack = skimage.io.imread('Data/13585.tif')\n",
    "image_stack = skimage.io.imread('https://cildata.crbs.ucsd.edu/media/images/13585/13585.tif')\n",
    "image_nuclei = image_stack[:,:,2]\n",
    "my_otsu_threshold = skimage.filters.threshold_otsu(image_nuclei)\n",
    "mask_otsu = image_nuclei > my_otsu_threshold"
   ]
  },
  {
   "cell_type": "markdown",
   "metadata": {},
   "source": [
    "And let's focus on a smaller region:"
   ]
  },
  {
   "cell_type": "code",
   "execution_count": 28,
   "metadata": {},
   "outputs": [],
   "source": [
    "cropped_mask = mask_otsu[200:300,100:200].copy()\n",
    "cropped_image = image_nuclei[200:300,100:200].copy()"
   ]
  },
  {
   "cell_type": "code",
   "execution_count": 11,
   "metadata": {},
   "outputs": [
    {
     "data": {
      "image/png": "[encoded data removed]",
      "text/plain": [
       "<Figure size 432x288 with 1 Axes>"
      ]
     },
     "metadata": {
      "needs_background": "light"
     },
     "output_type": "display_data"
    }
   ],
   "source": [
    "plt.imshow(cropped_mask, cmap = 'gray')\n",
    "plt.show()"
   ]
  },
  {
   "cell_type": "markdown",
   "metadata": {},
   "source": [
    "## 10.3 Erosion"
   ]
  },
  {
   "cell_type": "code",
   "execution_count": 20,
   "metadata": {},
   "outputs": [
    {
     "name": "stdout",
     "output_type": "stream",
     "text": [
      "Help on function binary_erosion in module skimage.morphology.binary:\n",
      "\n",
      "binary_erosion(image, selem=None, out=None)\n",
      "    Return fast binary morphological erosion of an image.\n",
      "    \n",
      "    This function returns the same result as greyscale erosion but performs\n",
      "    faster for binary images.\n",
      "    \n",
      "    Morphological erosion sets a pixel at ``(i,j)`` to the minimum over all\n",
      "    pixels in the neighborhood centered at ``(i,j)``. Erosion shrinks bright\n",
      "    regions and enlarges dark regions.\n",
      "    \n",
      "    Parameters\n",
      "    ----------\n",
      "    image : ndarray\n",
      "        Binary input image.\n",
      "    selem : ndarray, optional\n",
      "        The neighborhood expressed as a 2-D array of 1's and 0's.\n",
      "        If None, use cross-shaped structuring element (connectivity=1).\n",
      "    out : ndarray of bool, optional\n",
      "        The array to store the result of the morphology. If None is\n",
      "        passed, a new array will be allocated.\n",
      "    \n",
      "    Returns\n",
      "    -------\n",
      "    eroded : ndarray of bool or uint\n",
      "        The result of the morphological erosion taking values in\n",
      "        ``[False, True]``.\n",
      "\n"
     ]
    }
   ],
   "source": [
    "help(skimage.morphology.binary_erosion)"
   ]
  },
  {
   "cell_type": "markdown",
   "metadata": {},
   "source": [
    "Erosion does what one expects: it shrinks the white regions. But how does it work ? Each pixel is visited. If it is white, one asks if any pixel in the neighborhood is black. If yes that pixel turns black. Of course this will only happen to pixels on the edges, as pixels in the middle of the nuclei are surrounded by white pixels.\n",
    "\n",
    "We mentioned that the neighborhood is checked. The size of this neighborhood can be set by the user. For example we can observe a circular region around each pixel. The way to specify this neighborhood is give an image of it. Luckily, skimage has already implemented for us various shapes. For example a disk:"
   ]
  },
  {
   "cell_type": "code",
   "execution_count": 13,
   "metadata": {},
   "outputs": [
    {
     "name": "stdout",
     "output_type": "stream",
     "text": [
      "Help on function disk in module skimage.morphology.selem:\n",
      "\n",
      "disk(radius, dtype=<class 'numpy.uint8'>)\n",
      "    Generates a flat, disk-shaped structuring element.\n",
      "    \n",
      "    A pixel is within the neighborhood if the euclidean distance between\n",
      "    it and the origin is no greater than radius.\n",
      "    \n",
      "    Parameters\n",
      "    ----------\n",
      "    radius : int\n",
      "        The radius of the disk-shaped structuring element.\n",
      "    \n",
      "    Other Parameters\n",
      "    ----------------\n",
      "    dtype : data-type\n",
      "        The data type of the structuring element.\n",
      "    \n",
      "    Returns\n",
      "    -------\n",
      "    selem : ndarray\n",
      "        The structuring element where elements of the neighborhood\n",
      "        are 1 and 0 otherwise.\n",
      "\n"
     ]
    }
   ],
   "source": [
    "help(skimage.morphology.disk)"
   ]
  },
  {
   "cell_type": "code",
   "execution_count": 23,
   "metadata": {},
   "outputs": [
    {
     "data": {
      "image/png": "[encoded data removed]",
      "text/plain": [
       "<Figure size 432x288 with 1 Axes>"
      ]
     },
     "metadata": {
      "needs_background": "light"
     },
     "output_type": "display_data"
    }
   ],
   "source": [
    "my_disk = skimage.morphology.disk(3)\n",
    "\n",
    "plt.imshow(my_disk,cmap = 'gray')\n",
    "plt.show()"
   ]
  },
  {
   "cell_type": "markdown",
   "metadata": {},
   "source": [
    "Let's try to use this disk to erode our image:"
   ]
  },
  {
   "cell_type": "code",
   "execution_count": 24,
   "metadata": {},
   "outputs": [],
   "source": [
    "my_eroded = skimage.morphology.erosion(cropped_mask, selem=my_disk)"
   ]
  },
  {
   "cell_type": "code",
   "execution_count": 25,
   "metadata": {},
   "outputs": [
    {
     "data": {
      "image/png": "[encoded data removed]",
      "text/plain": [
       "<Figure size 432x288 with 1 Axes>"
      ]
     },
     "metadata": {
      "needs_background": "light"
     },
     "output_type": "display_data"
    }
   ],
   "source": [
    "plt.imshow(my_eroded, cmap = 'gray')\n",
    "plt.show()"
   ]
  },
  {
   "cell_type": "markdown",
   "metadata": {},
   "source": [
    "To see what happened we can subtract the original and the eroded images:"
   ]
  },
  {
   "cell_type": "code",
   "execution_count": 31,
   "metadata": {},
   "outputs": [
    {
     "data": {
      "image/png": "[encoded data removed]",
      "text/plain": [
       "<Figure size 432x288 with 1 Axes>"
      ]
     },
     "metadata": {
      "needs_background": "light"
     },
     "output_type": "display_data"
    }
   ],
   "source": [
    "plt.imshow(cropped_mask.astype(int) - my_eroded.astype(int), cmap = 'gray')\n",
    "plt.show()"
   ]
  },
  {
   "cell_type": "markdown",
   "metadata": {},
   "source": [
    "What happends if we take an even larger neighborhood? "
   ]
  },
  {
   "cell_type": "code",
   "execution_count": 32,
   "metadata": {},
   "outputs": [
    {
     "data": {
      "image/png": "[encoded data removed]",
      "text/plain": [
       "<Figure size 432x288 with 1 Axes>"
      ]
     },
     "metadata": {
      "needs_background": "light"
     },
     "output_type": "display_data"
    }
   ],
   "source": [
    "my_disk = skimage.morphology.disk(5)\n",
    "my_eroded = skimage.morphology.erosion(cropped_mask, selem=my_disk)\n",
    "plt.imshow(my_eroded, cmap = 'gray')\n",
    "plt.show()"
   ]
  },
  {
   "cell_type": "markdown",
   "metadata": {},
   "source": [
    "We lost one of the nuclei, which was so small that none of its pixels was \"far enough\" from a black pixel."
   ]
  },
  {
   "cell_type": "markdown",
   "metadata": {},
   "source": [
    "## 10.4 Dilation"
   ]
  },
  {
   "cell_type": "markdown",
   "metadata": {},
   "source": [
    "Logically, dilation does the opposite of erosion: it visits every black pixel and verifies whether it has any white pixel in its neighborhood, and if yes turns it into white. Let's see an example:"
   ]
  },
  {
   "cell_type": "code",
   "execution_count": 34,
   "metadata": {},
   "outputs": [
    {
     "data": {
      "image/png": "[encoded data removed]",
      "text/plain": [
       "<Figure size 432x288 with 1 Axes>"
      ]
     },
     "metadata": {
      "needs_background": "light"
     },
     "output_type": "display_data"
    }
   ],
   "source": [
    "my_disk = skimage.morphology.disk(3)\n",
    "my_dilation = skimage.morphology.dilation(cropped_mask, selem=my_disk)\n",
    "plt.imshow(my_dilation, cmap = 'gray')\n",
    "plt.show()"
   ]
  },
  {
   "cell_type": "markdown",
   "metadata": {},
   "source": [
    "## 10.5 Combining operations"
   ]
  },
  {
   "cell_type": "markdown",
   "metadata": {},
   "source": [
    "An efficient way to \"clean-up\" an image is to apply a series of such operations. Let's imagine that we for example want to remove very small nuclei. We can successively erode and dilate the image to remove object smaller than some threshold:"
   ]
  },
  {
   "cell_type": "code",
   "execution_count": 35,
   "metadata": {},
   "outputs": [],
   "source": [
    "#1. Create neighborhood region\n",
    "my_disk = skimage.morphology.disk(5)\n",
    "\n",
    "#2. Erode the image to suppress small elements\n",
    "my_cleanimage = skimage.morphology.erosion(cropped_mask, selem=my_disk)\n",
    "\n",
    "#3. Dilate the eroded image to recover objects of the right size\n",
    "my_cleanimage = skimage.morphology.dilation(my_cleanimage, selem=my_disk)"
   ]
  },
  {
   "cell_type": "code",
   "execution_count": 36,
   "metadata": {},
   "outputs": [
    {
     "data": {
      "image/png": "[encoded data removed]",
      "text/plain": [
       "<Figure size 432x288 with 1 Axes>"
      ]
     },
     "metadata": {
      "needs_background": "light"
     },
     "output_type": "display_data"
    }
   ],
   "source": [
    "plt.imshow(my_cleanimage, cmap = 'gray')\n",
    "plt.show()"
   ]
  },
  {
   "cell_type": "code",
   "execution_count": 38,
   "metadata": {},
   "outputs": [
    {
     "data": {
      "image/png": "[encoded data removed]",
      "text/plain": [
       "<Figure size 432x288 with 1 Axes>"
      ]
     },
     "metadata": {
      "needs_background": "light"
     },
     "output_type": "display_data"
    }
   ],
   "source": [
    "plt.imshow(cropped_mask, cmap = 'gray')\n",
    "plt.show()"
   ]
  },
  {
   "cell_type": "markdown",
   "metadata": {},
   "source": [
    "This combination of operations is very common and is called **binary opening**. It is so common that it is even implemented as a function of its own ```skimage.morphology.binary_opening```."
   ]
  },
  {
   "cell_type": "code",
   "execution_count": null,
   "metadata": {},
   "outputs": [],
   "source": []
  }
 ],
 "metadata": {
  "kernelspec": {
   "display_name": "Python 3",
   "language": "python",
   "name": "python3"
  },
  "language_info": {
   "codemirror_mode": {
    "name": "ipython",
    "version": 3
   },
   "file_extension": ".py",
   "mimetype": "text/x-python",
   "name": "python",
   "nbconvert_exporter": "python",
   "pygments_lexer": "ipython3",
   "version": "3.6.7"
  },
  "toc": {
   "base_numbering": 1,
   "nav_menu": {},
   "number_sections": false,
   "sideBar": true,
   "skip_h1_title": false,
   "title_cell": "Table of Contents",
   "title_sidebar": "Contents",
   "toc_cell": false,
   "toc_position": {},
   "toc_section_display": true,
   "toc_window_display": true
  }
 },
 "nbformat": 4,
 "nbformat_minor": 2
}
