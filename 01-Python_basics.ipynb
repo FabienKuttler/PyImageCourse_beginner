{
 "cells": [
  {
   "cell_type": "markdown",
   "metadata": {
    "id": "9Gn_5aOLxpqi"
   },
   "source": [
    "# 1. Basics of Python"
   ]
  },
  {
   "cell_type": "markdown",
   "metadata": {
    "id": "2Iil8IS5xpqp"
   },
   "source": [
    "## 1.1 Variables"
   ]
  },
  {
   "cell_type": "markdown",
   "metadata": {
    "id": "mjk574OUxpqq"
   },
   "source": [
    "### Defininig variables"
   ]
  },
  {
   "cell_type": "markdown",
   "metadata": {
    "id": "sIL0F_Pxxpqq"
   },
   "source": [
    "When opening a Jupyter notebook you can just type in simple mathematical operations in the first cell, and it works just like a regular calculator:"
   ]
  },
  {
   "cell_type": "code",
   "execution_count": 1,
   "metadata": {
    "colab": {
     "base_uri": "https://localhost:8080/"
    },
    "executionInfo": {
     "elapsed": 1846,
     "status": "ok",
     "timestamp": 1616246304463,
     "user": {
      "displayName": "Guillaume Witz",
      "photoUrl": "https://lh3.googleusercontent.com/a-/AOh14GgT0K2JVYzEsjzsS5nhkUVjUrSIJ5jHzXnBoYrmVf8=s64",
      "userId": "16033870147214403532"
     },
     "user_tz": -60
    },
    "id": "n6Nzd3x2xpqr",
    "outputId": "c60b9a4f-b316-4a7f-91e3-48bbbef99ed6"
   },
   "outputs": [
    {
     "data": {
      "text/plain": [
       "6"
      ]
     },
     "execution_count": 1,
     "metadata": {
      "tags": []
     },
     "output_type": "execute_result"
    }
   ],
   "source": [
    "3+3"
   ]
  },
  {
   "cell_type": "code",
   "execution_count": 2,
   "metadata": {
    "colab": {
     "base_uri": "https://localhost:8080/"
    },
    "executionInfo": {
     "elapsed": 1802,
     "status": "ok",
     "timestamp": 1616246304464,
     "user": {
      "displayName": "Guillaume Witz",
      "photoUrl": "https://lh3.googleusercontent.com/a-/AOh14GgT0K2JVYzEsjzsS5nhkUVjUrSIJ5jHzXnBoYrmVf8=s64",
      "userId": "16033870147214403532"
     },
     "user_tz": -60
    },
    "id": "f_7ckup4xpqs",
    "outputId": "bbe85dca-5396-47ac-b7e8-bff565fdda96"
   },
   "outputs": [
    {
     "data": {
      "text/plain": [
       "3333.3333333333335"
      ]
     },
     "execution_count": 2,
     "metadata": {
      "tags": []
     },
     "output_type": "execute_result"
    }
   ],
   "source": [
    "10000/3"
   ]
  },
  {
   "cell_type": "markdown",
   "metadata": {
    "id": "LGd5_PgYxpqt"
   },
   "source": [
    "We will see other operators as we go along, but here's an [exhaustive list](https://docs.python.org/3/library/stdtypes.html#numeric-types-int-float-complex)\n",
    "\n",
    "Just like when doing maths, instead of writing numbers, one can use variables. This is handy, because once a variable is defined, one can re-use it later multiple times. To assign a value to a variable in Python one just uses the = sign."
   ]
  },
  {
   "cell_type": "code",
   "execution_count": 3,
   "metadata": {
    "executionInfo": {
     "elapsed": 1800,
     "status": "ok",
     "timestamp": 1616246304465,
     "user": {
      "displayName": "Guillaume Witz",
      "photoUrl": "https://lh3.googleusercontent.com/a-/AOh14GgT0K2JVYzEsjzsS5nhkUVjUrSIJ5jHzXnBoYrmVf8=s64",
      "userId": "16033870147214403532"
     },
     "user_tz": -60
    },
    "id": "2nc5Pduoxpqt"
   },
   "outputs": [],
   "source": [
    "a = 3\n",
    "b = 3"
   ]
  },
  {
   "cell_type": "code",
   "execution_count": 4,
   "metadata": {
    "colab": {
     "base_uri": "https://localhost:8080/"
    },
    "executionInfo": {
     "elapsed": 1792,
     "status": "ok",
     "timestamp": 1616246304466,
     "user": {
      "displayName": "Guillaume Witz",
      "photoUrl": "https://lh3.googleusercontent.com/a-/AOh14GgT0K2JVYzEsjzsS5nhkUVjUrSIJ5jHzXnBoYrmVf8=s64",
      "userId": "16033870147214403532"
     },
     "user_tz": -60
    },
    "id": "qls4Tbkyxpqt",
    "outputId": "1e2f8045-32e0-4baa-8ac1-ce20bfca5ea1"
   },
   "outputs": [
    {
     "data": {
      "text/plain": [
       "6"
      ]
     },
     "execution_count": 4,
     "metadata": {
      "tags": []
     },
     "output_type": "execute_result"
    }
   ],
   "source": [
    "a+b"
   ]
  },
  {
   "cell_type": "markdown",
   "metadata": {
    "id": "BzhBXT4rxpqu"
   },
   "source": [
    "Note that if we now ask what a is we get its value:"
   ]
  },
  {
   "cell_type": "code",
   "execution_count": 5,
   "metadata": {
    "colab": {
     "base_uri": "https://localhost:8080/"
    },
    "executionInfo": {
     "elapsed": 1784,
     "status": "ok",
     "timestamp": 1616246304469,
     "user": {
      "displayName": "Guillaume Witz",
      "photoUrl": "https://lh3.googleusercontent.com/a-/AOh14GgT0K2JVYzEsjzsS5nhkUVjUrSIJ5jHzXnBoYrmVf8=s64",
      "userId": "16033870147214403532"
     },
     "user_tz": -60
    },
    "id": "84I35MWmxpqu",
    "outputId": "a0b60ba5-9ffe-4cc5-ca8b-3d78377d183e"
   },
   "outputs": [
    {
     "data": {
      "text/plain": [
       "3"
      ]
     },
     "execution_count": 5,
     "metadata": {
      "tags": []
     },
     "output_type": "execute_result"
    }
   ],
   "source": [
    "a"
   ]
  },
  {
   "cell_type": "markdown",
   "metadata": {
    "id": "uU6rTHIXxpqu"
   },
   "source": [
    "If we ask for a variable that has not been defined we get an error:"
   ]
  },
  {
   "cell_type": "code",
   "execution_count": 6,
   "metadata": {
    "colab": {
     "base_uri": "https://localhost:8080/",
     "height": 164
    },
    "executionInfo": {
     "elapsed": 2323,
     "status": "error",
     "timestamp": 1616246305019,
     "user": {
      "displayName": "Guillaume Witz",
      "photoUrl": "https://lh3.googleusercontent.com/a-/AOh14GgT0K2JVYzEsjzsS5nhkUVjUrSIJ5jHzXnBoYrmVf8=s64",
      "userId": "16033870147214403532"
     },
     "user_tz": -60
    },
    "id": "Irx5I5ewxpqv",
    "outputId": "20108a98-2706-445d-df95-ccbcb28f086a"
   },
   "outputs": [
    {
     "ename": "NameError",
     "evalue": "ignored",
     "output_type": "error",
     "traceback": [
      "\u001b[0;31m---------------------------------------------------------------------------\u001b[0m",
      "\u001b[0;31mNameError\u001b[0m                                 Traceback (most recent call last)",
      "\u001b[0;32m<ipython-input-6-2b66fd261ee5>\u001b[0m in \u001b[0;36m<module>\u001b[0;34m()\u001b[0m\n\u001b[0;32m----> 1\u001b[0;31m \u001b[0mc\u001b[0m\u001b[0;34m\u001b[0m\u001b[0;34m\u001b[0m\u001b[0m\n\u001b[0m",
      "\u001b[0;31mNameError\u001b[0m: name 'c' is not defined"
     ]
    }
   ],
   "source": [
    "c"
   ]
  },
  {
   "cell_type": "markdown",
   "metadata": {
    "id": "SiQ6xkmexpqw"
   },
   "source": [
    "We can however define c using the already defined variables:"
   ]
  },
  {
   "cell_type": "code",
   "execution_count": 7,
   "metadata": {
    "executionInfo": {
     "elapsed": 1879,
     "status": "ok",
     "timestamp": 1616246322091,
     "user": {
      "displayName": "Guillaume Witz",
      "photoUrl": "https://lh3.googleusercontent.com/a-/AOh14GgT0K2JVYzEsjzsS5nhkUVjUrSIJ5jHzXnBoYrmVf8=s64",
      "userId": "16033870147214403532"
     },
     "user_tz": -60
    },
    "id": "71gbZ187xpqw"
   },
   "outputs": [],
   "source": [
    "c = a + b"
   ]
  },
  {
   "cell_type": "markdown",
   "metadata": {
    "id": "1HhztU3Pxpqw"
   },
   "source": [
    "Note that here we don't get an output from the cell. We only see an output for results that are not assigned to a variable. If we want to see the output we have to explicitly ask Python to show it using the print() function (we'll learn later about functions):"
   ]
  },
  {
   "cell_type": "code",
   "execution_count": 8,
   "metadata": {
    "colab": {
     "base_uri": "https://localhost:8080/"
    },
    "executionInfo": {
     "elapsed": 1875,
     "status": "ok",
     "timestamp": 1616246322094,
     "user": {
      "displayName": "Guillaume Witz",
      "photoUrl": "https://lh3.googleusercontent.com/a-/AOh14GgT0K2JVYzEsjzsS5nhkUVjUrSIJ5jHzXnBoYrmVf8=s64",
      "userId": "16033870147214403532"
     },
     "user_tz": -60
    },
    "id": "vdVLqR5oxpqw",
    "outputId": "f95fba59-772b-4958-d521-0260eae954da"
   },
   "outputs": [
    {
     "name": "stdout",
     "output_type": "stream",
     "text": [
      "6\n"
     ]
    }
   ],
   "source": [
    "c = a + b\n",
    "print(c)"
   ]
  },
  {
   "cell_type": "markdown",
   "metadata": {
    "id": "x-NQWzPIxpqx"
   },
   "source": [
    "### What can be assigned to variables"
   ]
  },
  {
   "cell_type": "markdown",
   "metadata": {
    "id": "Nqa4IdNIxpqx"
   },
   "source": [
    "You probably remember that number come in different types. In school we learn that integers belong to $\\mathbb{N}$, real numbers to $\\mathbb{R}$ etc. The same is true in programming, so that the computer knows how to perform computations and store numbers in memory. Let's see what the variable a is. For that we use the type() function:"
   ]
  },
  {
   "cell_type": "code",
   "execution_count": 9,
   "metadata": {
    "colab": {
     "base_uri": "https://localhost:8080/"
    },
    "executionInfo": {
     "elapsed": 1868,
     "status": "ok",
     "timestamp": 1616246322095,
     "user": {
      "displayName": "Guillaume Witz",
      "photoUrl": "https://lh3.googleusercontent.com/a-/AOh14GgT0K2JVYzEsjzsS5nhkUVjUrSIJ5jHzXnBoYrmVf8=s64",
      "userId": "16033870147214403532"
     },
     "user_tz": -60
    },
    "id": "45v2Q-erxpqx",
    "outputId": "5ecdfa32-77a4-4f40-90fe-b6358407509a"
   },
   "outputs": [
    {
     "data": {
      "text/plain": [
       "int"
      ]
     },
     "execution_count": 9,
     "metadata": {
      "tags": []
     },
     "output_type": "execute_result"
    }
   ],
   "source": [
    "type(a)"
   ]
  },
  {
   "cell_type": "markdown",
   "metadata": {
    "id": "ycGFVt__xpqy"
   },
   "source": [
    "We see that a is an integer (abbreviated int). What happens if we write:"
   ]
  },
  {
   "cell_type": "code",
   "execution_count": 10,
   "metadata": {
    "colab": {
     "base_uri": "https://localhost:8080/"
    },
    "executionInfo": {
     "elapsed": 1860,
     "status": "ok",
     "timestamp": 1616246322095,
     "user": {
      "displayName": "Guillaume Witz",
      "photoUrl": "https://lh3.googleusercontent.com/a-/AOh14GgT0K2JVYzEsjzsS5nhkUVjUrSIJ5jHzXnBoYrmVf8=s64",
      "userId": "16033870147214403532"
     },
     "user_tz": -60
    },
    "id": "M6Nv0M5dxpqy",
    "outputId": "24b3dad1-618f-4208-9682-46372529da43"
   },
   "outputs": [
    {
     "data": {
      "text/plain": [
       "float"
      ]
     },
     "execution_count": 10,
     "metadata": {
      "tags": []
     },
     "output_type": "execute_result"
    }
   ],
   "source": [
    "a = 1.4\n",
    "type(a)"
   ]
  },
  {
   "cell_type": "markdown",
   "metadata": {
    "id": "T4c45vOjxpqy"
   },
   "source": [
    "We know see that we have another type, a float, something closer to a real number. \n",
    "\n",
    "**We see here a crucial property of Python: the type of variables is INFERRED from the input.**\n",
    "\n",
    "\n",
    "There are additional types, the most common being string and boolean:"
   ]
  },
  {
   "cell_type": "code",
   "execution_count": 11,
   "metadata": {
    "colab": {
     "base_uri": "https://localhost:8080/"
    },
    "executionInfo": {
     "elapsed": 1854,
     "status": "ok",
     "timestamp": 1616246322096,
     "user": {
      "displayName": "Guillaume Witz",
      "photoUrl": "https://lh3.googleusercontent.com/a-/AOh14GgT0K2JVYzEsjzsS5nhkUVjUrSIJ5jHzXnBoYrmVf8=s64",
      "userId": "16033870147214403532"
     },
     "user_tz": -60
    },
    "id": "dtEubqNmxpqy",
    "outputId": "93e07557-892e-40fc-cdc7-31f7211752ea"
   },
   "outputs": [
    {
     "data": {
      "text/plain": [
       "str"
      ]
     },
     "execution_count": 11,
     "metadata": {
      "tags": []
     },
     "output_type": "execute_result"
    }
   ],
   "source": [
    "mystring = 'test'\n",
    "type(mystring)"
   ]
  },
  {
   "cell_type": "code",
   "execution_count": 12,
   "metadata": {
    "colab": {
     "base_uri": "https://localhost:8080/"
    },
    "executionInfo": {
     "elapsed": 1846,
     "status": "ok",
     "timestamp": 1616246322096,
     "user": {
      "displayName": "Guillaume Witz",
      "photoUrl": "https://lh3.googleusercontent.com/a-/AOh14GgT0K2JVYzEsjzsS5nhkUVjUrSIJ5jHzXnBoYrmVf8=s64",
      "userId": "16033870147214403532"
     },
     "user_tz": -60
    },
    "id": "9Tpx_ZhExpqy",
    "outputId": "41a57c2a-dfdd-4f39-ec17-29a914c17e5f"
   },
   "outputs": [
    {
     "data": {
      "text/plain": [
       "bool"
      ]
     },
     "execution_count": 12,
     "metadata": {
      "tags": []
     },
     "output_type": "execute_result"
    }
   ],
   "source": [
    "myboolean = True\n",
    "type(myboolean)"
   ]
  },
  {
   "cell_type": "markdown",
   "metadata": {
    "id": "M-MmwfJLxpqz"
   },
   "source": [
    "A string is basically just text. One can use it just to \"label\" things, but typically in genomics strings are used a lot as actual object to investigate e.g. DNA sequences.\n",
    "\n",
    "We have seen above two other interesting facts: a variable can be rewritten (we reassigned a) and the variable name can be longer than a single letter. There are some rules for variables names: most importantly they cannot start with a number (e.g. 0myvariable) and should not have dashes (e.g. my-variable)."
   ]
  },
  {
   "cell_type": "markdown",
   "metadata": {
    "id": "zLOWuFhWxpqz"
   },
   "source": [
    "### How variables get converted"
   ]
  },
  {
   "cell_type": "markdown",
   "metadata": {
    "id": "xkB_3myfxpqz"
   },
   "source": [
    "In a trivial case, when adding two variables of the same type, it generates a variable of that type."
   ]
  },
  {
   "cell_type": "code",
   "execution_count": 13,
   "metadata": {
    "colab": {
     "base_uri": "https://localhost:8080/"
    },
    "executionInfo": {
     "elapsed": 1840,
     "status": "ok",
     "timestamp": 1616246322097,
     "user": {
      "displayName": "Guillaume Witz",
      "photoUrl": "https://lh3.googleusercontent.com/a-/AOh14GgT0K2JVYzEsjzsS5nhkUVjUrSIJ5jHzXnBoYrmVf8=s64",
      "userId": "16033870147214403532"
     },
     "user_tz": -60
    },
    "id": "O3ioE8JDxpqz",
    "outputId": "ab7aa4d0-c682-46e2-f07b-2347ed061485"
   },
   "outputs": [
    {
     "data": {
      "text/plain": [
       "int"
      ]
     },
     "execution_count": 13,
     "metadata": {
      "tags": []
     },
     "output_type": "execute_result"
    }
   ],
   "source": [
    "a = 3\n",
    "b = 2\n",
    "c = a + b\n",
    "type(c)"
   ]
  },
  {
   "cell_type": "markdown",
   "metadata": {
    "id": "NnIwtRjCxpq0"
   },
   "source": [
    "This is however **not** true when using an operation that generates a real number. By default Python executes the operation as one would intuitively do and generates a float:"
   ]
  },
  {
   "cell_type": "code",
   "execution_count": 14,
   "metadata": {
    "colab": {
     "base_uri": "https://localhost:8080/"
    },
    "executionInfo": {
     "elapsed": 1833,
     "status": "ok",
     "timestamp": 1616246322098,
     "user": {
      "displayName": "Guillaume Witz",
      "photoUrl": "https://lh3.googleusercontent.com/a-/AOh14GgT0K2JVYzEsjzsS5nhkUVjUrSIJ5jHzXnBoYrmVf8=s64",
      "userId": "16033870147214403532"
     },
     "user_tz": -60
    },
    "id": "wmflGoPTxpq0",
    "outputId": "e3127a6e-1ea9-4d25-8904-19cf8de58faf"
   },
   "outputs": [
    {
     "name": "stdout",
     "output_type": "stream",
     "text": [
      "1.5\n"
     ]
    },
    {
     "data": {
      "text/plain": [
       "float"
      ]
     },
     "execution_count": 14,
     "metadata": {
      "tags": []
     },
     "output_type": "execute_result"
    }
   ],
   "source": [
    "a = 3\n",
    "b = 2\n",
    "c = a / b\n",
    "print(c)\n",
    "type(c)"
   ]
  },
  {
   "cell_type": "markdown",
   "metadata": {
    "id": "ybBDvOB4xpq0"
   },
   "source": [
    "Again this is a **very important** particularity of Python that you have to remember. Yet another case where the type is inferred is when combining multiply types. For example here:"
   ]
  },
  {
   "cell_type": "code",
   "execution_count": 15,
   "metadata": {
    "colab": {
     "base_uri": "https://localhost:8080/"
    },
    "executionInfo": {
     "elapsed": 1827,
     "status": "ok",
     "timestamp": 1616246322098,
     "user": {
      "displayName": "Guillaume Witz",
      "photoUrl": "https://lh3.googleusercontent.com/a-/AOh14GgT0K2JVYzEsjzsS5nhkUVjUrSIJ5jHzXnBoYrmVf8=s64",
      "userId": "16033870147214403532"
     },
     "user_tz": -60
    },
    "id": "aYBSlZR2xpq0",
    "outputId": "6eff6b24-465a-42d7-9409-e85a95627fac"
   },
   "outputs": [
    {
     "name": "stdout",
     "output_type": "stream",
     "text": [
      "4.4\n"
     ]
    },
    {
     "data": {
      "text/plain": [
       "float"
      ]
     },
     "execution_count": 15,
     "metadata": {
      "tags": []
     },
     "output_type": "execute_result"
    }
   ],
   "source": [
    "a = 3\n",
    "b = 1.4\n",
    "c = a+b\n",
    "print(c)\n",
    "type(c)"
   ]
  },
  {
   "cell_type": "markdown",
   "metadata": {
    "id": "mhvx9pR_xpq1"
   },
   "source": [
    "Python always uses the \"most complex\" type when combining two different ones."
   ]
  },
  {
   "cell_type": "markdown",
   "metadata": {
    "id": "OE38Hgyyxpq1"
   },
   "source": [
    "## 1.2 Logical operations"
   ]
  },
  {
   "cell_type": "markdown",
   "metadata": {
    "id": "2iER3z4lxpq1"
   },
   "source": [
    "We have seen above that one can apply standard calculus operations to integers and floats. We have also seen that we can define other types of variables, and those also have associated operations. Let's focus first on booleans.\n",
    "\n",
    "Booleans are variables can only take two values, True or False, and that are extremely helpful in multiple situations. These variables can either be defined:"
   ]
  },
  {
   "cell_type": "code",
   "execution_count": 16,
   "metadata": {
    "executionInfo": {
     "elapsed": 1821,
     "status": "ok",
     "timestamp": 1616246322099,
     "user": {
      "displayName": "Guillaume Witz",
      "photoUrl": "https://lh3.googleusercontent.com/a-/AOh14GgT0K2JVYzEsjzsS5nhkUVjUrSIJ5jHzXnBoYrmVf8=s64",
      "userId": "16033870147214403532"
     },
     "user_tz": -60
    },
    "id": "UavyAamYxpq1"
   },
   "outputs": [],
   "source": [
    "a = True\n",
    "b = False"
   ]
  },
  {
   "cell_type": "markdown",
   "metadata": {
    "id": "vb8eZyMExpq1"
   },
   "source": [
    "Or they can be generated by logical operations applied to some other variable. For example:"
   ]
  },
  {
   "cell_type": "code",
   "execution_count": 17,
   "metadata": {
    "colab": {
     "base_uri": "https://localhost:8080/"
    },
    "executionInfo": {
     "elapsed": 1815,
     "status": "ok",
     "timestamp": 1616246322100,
     "user": {
      "displayName": "Guillaume Witz",
      "photoUrl": "https://lh3.googleusercontent.com/a-/AOh14GgT0K2JVYzEsjzsS5nhkUVjUrSIJ5jHzXnBoYrmVf8=s64",
      "userId": "16033870147214403532"
     },
     "user_tz": -60
    },
    "id": "zwzpGiZyxpq1",
    "outputId": "85b53336-6f4b-46a5-f0c3-8e4814c1e719"
   },
   "outputs": [
    {
     "data": {
      "text/plain": [
       "False"
      ]
     },
     "execution_count": 17,
     "metadata": {
      "tags": []
     },
     "output_type": "execute_result"
    }
   ],
   "source": [
    "c = 3\n",
    "c > 4"
   ]
  },
  {
   "cell_type": "markdown",
   "metadata": {
    "id": "pw-kKcstxpq2"
   },
   "source": [
    "The output of that last comparison generates a False. That result can be captures like any other result in a variable:"
   ]
  },
  {
   "cell_type": "code",
   "execution_count": 18,
   "metadata": {
    "colab": {
     "base_uri": "https://localhost:8080/"
    },
    "executionInfo": {
     "elapsed": 1809,
     "status": "ok",
     "timestamp": 1616246322100,
     "user": {
      "displayName": "Guillaume Witz",
      "photoUrl": "https://lh3.googleusercontent.com/a-/AOh14GgT0K2JVYzEsjzsS5nhkUVjUrSIJ5jHzXnBoYrmVf8=s64",
      "userId": "16033870147214403532"
     },
     "user_tz": -60
    },
    "id": "kRRTQs2zxpq2",
    "outputId": "d7349369-bd7a-46e2-f4f0-9b7ecb3eb31c"
   },
   "outputs": [
    {
     "name": "stdout",
     "output_type": "stream",
     "text": [
      "False\n"
     ]
    }
   ],
   "source": [
    "my_boolean = c > 4\n",
    "print(my_boolean)"
   ]
  },
  {
   "cell_type": "markdown",
   "metadata": {
    "id": "Z8SaG5ACxpq2"
   },
   "source": [
    "The assignment can look a bit strange at first, but the important thing to remember is that the = sign is not used in its mathematical meaning but as an **assignment**. Naturally one can use all possible comparisons to generate booleans, e.g. >, <, <=, etc.\n",
    "\n",
    "Booleans can also be combined with each other using boolean operations. Nicely those are written explicitly in Python:"
   ]
  },
  {
   "cell_type": "code",
   "execution_count": 19,
   "metadata": {
    "executionInfo": {
     "elapsed": 1803,
     "status": "ok",
     "timestamp": 1616246322101,
     "user": {
      "displayName": "Guillaume Witz",
      "photoUrl": "https://lh3.googleusercontent.com/a-/AOh14GgT0K2JVYzEsjzsS5nhkUVjUrSIJ5jHzXnBoYrmVf8=s64",
      "userId": "16033870147214403532"
     },
     "user_tz": -60
    },
    "id": "tp0GB8gtxpq2"
   },
   "outputs": [],
   "source": [
    "a = True\n",
    "b = False"
   ]
  },
  {
   "cell_type": "code",
   "execution_count": 20,
   "metadata": {
    "colab": {
     "base_uri": "https://localhost:8080/"
    },
    "executionInfo": {
     "elapsed": 1798,
     "status": "ok",
     "timestamp": 1616246322102,
     "user": {
      "displayName": "Guillaume Witz",
      "photoUrl": "https://lh3.googleusercontent.com/a-/AOh14GgT0K2JVYzEsjzsS5nhkUVjUrSIJ5jHzXnBoYrmVf8=s64",
      "userId": "16033870147214403532"
     },
     "user_tz": -60
    },
    "id": "hPB85XVuxpq2",
    "outputId": "eefec0ef-bc34-4b89-b783-f2086cc3b3c8"
   },
   "outputs": [
    {
     "data": {
      "text/plain": [
       "True"
      ]
     },
     "execution_count": 20,
     "metadata": {
      "tags": []
     },
     "output_type": "execute_result"
    }
   ],
   "source": [
    "a or b"
   ]
  },
  {
   "cell_type": "code",
   "execution_count": 21,
   "metadata": {
    "colab": {
     "base_uri": "https://localhost:8080/"
    },
    "executionInfo": {
     "elapsed": 1792,
     "status": "ok",
     "timestamp": 1616246322102,
     "user": {
      "displayName": "Guillaume Witz",
      "photoUrl": "https://lh3.googleusercontent.com/a-/AOh14GgT0K2JVYzEsjzsS5nhkUVjUrSIJ5jHzXnBoYrmVf8=s64",
      "userId": "16033870147214403532"
     },
     "user_tz": -60
    },
    "id": "hiIdIBQPxpq3",
    "outputId": "8008279e-6a9b-4ea0-c094-e63fe57d7ea9"
   },
   "outputs": [
    {
     "data": {
      "text/plain": [
       "False"
      ]
     },
     "execution_count": 21,
     "metadata": {
      "tags": []
     },
     "output_type": "execute_result"
    }
   ],
   "source": [
    "a and b"
   ]
  },
  {
   "cell_type": "markdown",
   "metadata": {
    "id": "XmEwcz2Pxpq3"
   },
   "source": [
    "Negation also exists:"
   ]
  },
  {
   "cell_type": "code",
   "execution_count": 22,
   "metadata": {
    "colab": {
     "base_uri": "https://localhost:8080/"
    },
    "executionInfo": {
     "elapsed": 1786,
     "status": "ok",
     "timestamp": 1616246322102,
     "user": {
      "displayName": "Guillaume Witz",
      "photoUrl": "https://lh3.googleusercontent.com/a-/AOh14GgT0K2JVYzEsjzsS5nhkUVjUrSIJ5jHzXnBoYrmVf8=s64",
      "userId": "16033870147214403532"
     },
     "user_tz": -60
    },
    "id": "ibZRCHiYxpq3",
    "outputId": "32a55a86-f899-4db9-ac1d-b44836e658e7"
   },
   "outputs": [
    {
     "data": {
      "text/plain": [
       "True"
      ]
     },
     "execution_count": 22,
     "metadata": {
      "tags": []
     },
     "output_type": "execute_result"
    }
   ],
   "source": [
    "a and not b"
   ]
  },
  {
   "cell_type": "markdown",
   "metadata": {
    "id": "F6e8dyWnxpq3"
   },
   "source": [
    "Finally, one very important sign is ```==``` which actually means \"is equal\" and is not an assignment. For example we can ask if two variables have the same value:"
   ]
  },
  {
   "cell_type": "code",
   "execution_count": 23,
   "metadata": {
    "colab": {
     "base_uri": "https://localhost:8080/"
    },
    "executionInfo": {
     "elapsed": 1780,
     "status": "ok",
     "timestamp": 1616246322103,
     "user": {
      "displayName": "Guillaume Witz",
      "photoUrl": "https://lh3.googleusercontent.com/a-/AOh14GgT0K2JVYzEsjzsS5nhkUVjUrSIJ5jHzXnBoYrmVf8=s64",
      "userId": "16033870147214403532"
     },
     "user_tz": -60
    },
    "id": "OfaHpDlpxpq4",
    "outputId": "54b5e54f-553d-4498-88ff-7382afbb5fda"
   },
   "outputs": [
    {
     "data": {
      "text/plain": [
       "True"
      ]
     },
     "execution_count": 23,
     "metadata": {
      "tags": []
     },
     "output_type": "execute_result"
    }
   ],
   "source": [
    "a = 3\n",
    "b = 3\n",
    "a == b"
   ]
  },
  {
   "cell_type": "code",
   "execution_count": 24,
   "metadata": {
    "colab": {
     "base_uri": "https://localhost:8080/"
    },
    "executionInfo": {
     "elapsed": 1774,
     "status": "ok",
     "timestamp": 1616246322104,
     "user": {
      "displayName": "Guillaume Witz",
      "photoUrl": "https://lh3.googleusercontent.com/a-/AOh14GgT0K2JVYzEsjzsS5nhkUVjUrSIJ5jHzXnBoYrmVf8=s64",
      "userId": "16033870147214403532"
     },
     "user_tz": -60
    },
    "id": "9cuR-VTUxpq4",
    "outputId": "a5a299fb-3795-4c02-903f-cde61ed1754f"
   },
   "outputs": [
    {
     "data": {
      "text/plain": [
       "False"
      ]
     },
     "execution_count": 24,
     "metadata": {
      "tags": []
     },
     "output_type": "execute_result"
    }
   ],
   "source": [
    "a = 3\n",
    "b = 2\n",
    "a == b"
   ]
  }
 ],
 "metadata": {
  "colab": {
   "collapsed_sections": [],
   "name": "01-Python_basics.ipynb",
   "provenance": [],
   "toc_visible": true
  },
  "kernelspec": {
   "display_name": "Python 3",
   "language": "python",
   "name": "python3"
  },
  "language_info": {
   "codemirror_mode": {
    "name": "ipython",
    "version": 3
   },
   "file_extension": ".py",
   "mimetype": "text/x-python",
   "name": "python",
   "nbconvert_exporter": "python",
   "pygments_lexer": "ipython3",
   "version": "3.9.2"
  },
  "toc": {
   "base_numbering": 1,
   "nav_menu": {},
   "number_sections": false,
   "sideBar": true,
   "skip_h1_title": false,
   "title_cell": "Table of Contents",
   "title_sidebar": "Contents",
   "toc_cell": false,
   "toc_position": {},
   "toc_section_display": true,
   "toc_window_display": true
  }
 },
 "nbformat": 4,
 "nbformat_minor": 4
}
