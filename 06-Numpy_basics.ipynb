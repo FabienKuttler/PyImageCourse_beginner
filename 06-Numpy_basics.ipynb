{
 "cells": [
  {
   "cell_type": "markdown",
   "metadata": {
    "id": "OpcQOtRw2OjO"
   },
   "source": [
    "# 6. Numpy basics"
   ]
  },
  {
   "cell_type": "markdown",
   "metadata": {
    "id": "0aKm_Dcq2OjY"
   },
   "source": [
    "The structures offered by Python are limited, especially if we deal with the multi-dimensional lists that images are. The solution to this is the Numpy package, which offers a new object called an array. On top of offering this structure, Numpy also offers a vast number of functions that operate directly on arrays, sparing us the tedious task of making sure we handle all the pixels of an image. Let's first import Numpy:"
   ]
  },
  {
   "cell_type": "code",
   "execution_count": 2,
   "metadata": {
    "executionInfo": {
     "elapsed": 934,
     "status": "ok",
     "timestamp": 1616247469278,
     "user": {
      "displayName": "Guillaume Witz",
      "photoUrl": "https://lh3.googleusercontent.com/a-/AOh14GgT0K2JVYzEsjzsS5nhkUVjUrSIJ5jHzXnBoYrmVf8=s64",
      "userId": "16033870147214403532"
     },
     "user_tz": -60
    },
    "id": "rJMAvyT42OjZ"
   },
   "outputs": [],
   "source": [
    "import numpy as np\n",
    "\n",
    "import urllib.request\n",
    "urllib.request.urlretrieve('https://raw.githubusercontent.com/guiwitz/PyImageCourse_beginner/master/svg.py', 'svg.py')\n",
    "from svg import numpy_to_svg"
   ]
  },
  {
   "cell_type": "markdown",
   "metadata": {
    "id": "uZQYtPhc2OjZ"
   },
   "source": [
    "## 6.1 What is an array"
   ]
  },
  {
   "cell_type": "markdown",
   "metadata": {
    "id": "gVSm5qJO2OjZ"
   },
   "source": [
    "Now let us create arrays. The two simplest ways of doing that is to create arrays filled with 0's or 1's. For example to create a 6x4 array of zeros:"
   ]
  },
  {
   "cell_type": "code",
   "execution_count": 3,
   "metadata": {
    "executionInfo": {
     "elapsed": 611,
     "status": "ok",
     "timestamp": 1616247475383,
     "user": {
      "displayName": "Guillaume Witz",
      "photoUrl": "https://lh3.googleusercontent.com/a-/AOh14GgT0K2JVYzEsjzsS5nhkUVjUrSIJ5jHzXnBoYrmVf8=s64",
      "userId": "16033870147214403532"
     },
     "user_tz": -60
    },
    "id": "kFHWasNt2Oja"
   },
   "outputs": [],
   "source": [
    "myarray = np.zeros((4,6))"
   ]
  },
  {
   "cell_type": "markdown",
   "metadata": {
    "id": "B-d6smMh2Ojb"
   },
   "source": [
    "An array is just a matrix, i.e. a grid of numbers with multiple dimensions. For example the array above look like this:"
   ]
  },
  {
   "cell_type": "code",
   "execution_count": 4,
   "metadata": {
    "colab": {
     "base_uri": "https://localhost:8080/",
     "height": 204
    },
    "executionInfo": {
     "elapsed": 550,
     "status": "ok",
     "timestamp": 1616247477314,
     "user": {
      "displayName": "Guillaume Witz",
      "photoUrl": "https://lh3.googleusercontent.com/a-/AOh14GgT0K2JVYzEsjzsS5nhkUVjUrSIJ5jHzXnBoYrmVf8=s64",
      "userId": "16033870147214403532"
     },
     "user_tz": -60
    },
    "id": "klXLihdT2Ojd",
    "outputId": "a46adfea-0271-4210-c864-1f13069e4e39"
   },
   "outputs": [
    {
     "data": {
      "text/html": [
       "<svg width=\"250\" height=\"183\" style=\"stroke:rgb(0,0,0);stroke-width:1\" >\n",
       "\n",
       "  <!-- Horizontal lines -->\n",
       "  <line x1=\"0\" y1=\"0\" x2=\"200\" y2=\"0\" style=\"stroke-width:2\" />\n",
       "  <line x1=\"0\" y1=\"33\" x2=\"200\" y2=\"33\" />\n",
       "  <line x1=\"0\" y1=\"66\" x2=\"200\" y2=\"66\" />\n",
       "  <line x1=\"0\" y1=\"100\" x2=\"200\" y2=\"100\" />\n",
       "  <line x1=\"0\" y1=\"133\" x2=\"200\" y2=\"133\" style=\"stroke-width:2\" />\n",
       "\n",
       "  <!-- Vertical lines -->\n",
       "  <line x1=\"0\" y1=\"0\" x2=\"0\" y2=\"133\" style=\"stroke-width:2\" />\n",
       "  <line x1=\"33\" y1=\"0\" x2=\"33\" y2=\"133\" />\n",
       "  <line x1=\"66\" y1=\"0\" x2=\"66\" y2=\"133\" />\n",
       "  <line x1=\"100\" y1=\"0\" x2=\"100\" y2=\"133\" />\n",
       "  <line x1=\"133\" y1=\"0\" x2=\"133\" y2=\"133\" />\n",
       "  <line x1=\"166\" y1=\"0\" x2=\"166\" y2=\"133\" />\n",
       "  <line x1=\"200\" y1=\"0\" x2=\"200\" y2=\"133\" style=\"stroke-width:2\" />\n",
       "\n",
       "  <!-- Colored Rectangle -->\n",
       "  <polygon points=\"0.000000,0.000000 200.000000,0.000000 200.000000,133.333333 0.000000,133.333333\" style=\"fill:#ECB172A0;stroke-width:0\"/>\n",
       "\n",
       "  <!-- Text -->\n",
       "  <text x=\"100.000000\" y=\"153.333333\" font-size=\"1.0rem\" font-weight=\"100\" text-anchor=\"middle\" >6</text>\n",
       "  <text x=\"220.000000\" y=\"66.666667\" font-size=\"1.0rem\" font-weight=\"100\" text-anchor=\"middle\" transform=\"rotate(0,220.000000,66.666667)\">4</text>\n",
       "</svg>"
      ],
      "text/plain": [
       "<IPython.core.display.HTML object>"
      ]
     },
     "execution_count": 4,
     "metadata": {
      "tags": []
     },
     "output_type": "execute_result"
    }
   ],
   "source": [
    "numpy_to_svg(myarray)"
   ]
  },
  {
   "cell_type": "markdown",
   "metadata": {
    "id": "JHVOzBvn2Oje"
   },
   "source": [
    "And the \"inside\" of the array looks like this:"
   ]
  },
  {
   "cell_type": "code",
   "execution_count": 5,
   "metadata": {
    "colab": {
     "base_uri": "https://localhost:8080/"
    },
    "executionInfo": {
     "elapsed": 639,
     "status": "ok",
     "timestamp": 1616247480616,
     "user": {
      "displayName": "Guillaume Witz",
      "photoUrl": "https://lh3.googleusercontent.com/a-/AOh14GgT0K2JVYzEsjzsS5nhkUVjUrSIJ5jHzXnBoYrmVf8=s64",
      "userId": "16033870147214403532"
     },
     "user_tz": -60
    },
    "id": "Vb1qBblx2Ojf",
    "outputId": "d027fa7c-6ad8-4955-db61-d37f38e8b269"
   },
   "outputs": [
    {
     "data": {
      "text/plain": [
       "array([[0., 0., 0., 0., 0., 0.],\n",
       "       [0., 0., 0., 0., 0., 0.],\n",
       "       [0., 0., 0., 0., 0., 0.],\n",
       "       [0., 0., 0., 0., 0., 0.]])"
      ]
     },
     "execution_count": 5,
     "metadata": {
      "tags": []
     },
     "output_type": "execute_result"
    }
   ],
   "source": [
    "myarray"
   ]
  },
  {
   "cell_type": "markdown",
   "metadata": {
    "id": "ik2jd7VT2Ojf"
   },
   "source": [
    "We see that we have 6 separate list of 4 0's  grouped into a larger list. This entire structure is an array of 6 rows and 4 columns. In the frame of this course you can also see it as a 6x4 pixel image.\n",
    "\n",
    "Seeing rows and columns as a system of coordinates, we can access to specific pixels. For example the pixels at row = 3 and columns = 2 is: "
   ]
  },
  {
   "cell_type": "code",
   "execution_count": 6,
   "metadata": {
    "colab": {
     "base_uri": "https://localhost:8080/"
    },
    "executionInfo": {
     "elapsed": 581,
     "status": "ok",
     "timestamp": 1616247481275,
     "user": {
      "displayName": "Guillaume Witz",
      "photoUrl": "https://lh3.googleusercontent.com/a-/AOh14GgT0K2JVYzEsjzsS5nhkUVjUrSIJ5jHzXnBoYrmVf8=s64",
      "userId": "16033870147214403532"
     },
     "user_tz": -60
    },
    "id": "r_VZfMfO2Ojg",
    "outputId": "486a7ecd-a0a1-410c-b989-87978be35e16"
   },
   "outputs": [
    {
     "data": {
      "text/plain": [
       "0.0"
      ]
     },
     "execution_count": 6,
     "metadata": {
      "tags": []
     },
     "output_type": "execute_result"
    }
   ],
   "source": [
    "myarray[3,2]"
   ]
  },
  {
   "cell_type": "markdown",
   "metadata": {
    "id": "M-xr04tC2Ojg"
   },
   "source": [
    "We can even modify its value:"
   ]
  },
  {
   "cell_type": "code",
   "execution_count": 7,
   "metadata": {
    "executionInfo": {
     "elapsed": 639,
     "status": "ok",
     "timestamp": 1616247483599,
     "user": {
      "displayName": "Guillaume Witz",
      "photoUrl": "https://lh3.googleusercontent.com/a-/AOh14GgT0K2JVYzEsjzsS5nhkUVjUrSIJ5jHzXnBoYrmVf8=s64",
      "userId": "16033870147214403532"
     },
     "user_tz": -60
    },
    "id": "ZADiI9Z42Ojg"
   },
   "outputs": [],
   "source": [
    "myarray[3,2] = 13"
   ]
  },
  {
   "cell_type": "code",
   "execution_count": 8,
   "metadata": {
    "colab": {
     "base_uri": "https://localhost:8080/"
    },
    "executionInfo": {
     "elapsed": 401,
     "status": "ok",
     "timestamp": 1616247483600,
     "user": {
      "displayName": "Guillaume Witz",
      "photoUrl": "https://lh3.googleusercontent.com/a-/AOh14GgT0K2JVYzEsjzsS5nhkUVjUrSIJ5jHzXnBoYrmVf8=s64",
      "userId": "16033870147214403532"
     },
     "user_tz": -60
    },
    "id": "hVv0h8Nn2Ojh",
    "outputId": "e44924e7-8f6b-407a-abd6-1bf7037b50c7"
   },
   "outputs": [
    {
     "data": {
      "text/plain": [
       "array([[ 0.,  0.,  0.,  0.,  0.,  0.],\n",
       "       [ 0.,  0.,  0.,  0.,  0.,  0.],\n",
       "       [ 0.,  0.,  0.,  0.,  0.,  0.],\n",
       "       [ 0.,  0., 13.,  0.,  0.,  0.]])"
      ]
     },
     "execution_count": 8,
     "metadata": {
      "tags": []
     },
     "output_type": "execute_result"
    }
   ],
   "source": [
    "myarray"
   ]
  },
  {
   "cell_type": "markdown",
   "metadata": {
    "id": "u9tcGi4X2Ojh"
   },
   "source": [
    "Similarly we can crearte an array filled with 1s:"
   ]
  },
  {
   "cell_type": "code",
   "execution_count": 9,
   "metadata": {
    "colab": {
     "base_uri": "https://localhost:8080/"
    },
    "executionInfo": {
     "elapsed": 487,
     "status": "ok",
     "timestamp": 1616247485396,
     "user": {
      "displayName": "Guillaume Witz",
      "photoUrl": "https://lh3.googleusercontent.com/a-/AOh14GgT0K2JVYzEsjzsS5nhkUVjUrSIJ5jHzXnBoYrmVf8=s64",
      "userId": "16033870147214403532"
     },
     "user_tz": -60
    },
    "id": "hhmQ3MoX2Oji",
    "outputId": "4882f825-0197-4959-c607-8984d13833d0"
   },
   "outputs": [
    {
     "data": {
      "text/plain": [
       "array([[1., 1., 1., 1., 1., 1.],\n",
       "       [1., 1., 1., 1., 1., 1.],\n",
       "       [1., 1., 1., 1., 1., 1.]])"
      ]
     },
     "execution_count": 9,
     "metadata": {
      "tags": []
     },
     "output_type": "execute_result"
    }
   ],
   "source": [
    "np.ones((3,6))"
   ]
  },
  {
   "cell_type": "markdown",
   "metadata": {
    "id": "YSMXBcZ52Oji"
   },
   "source": [
    "Finally we can create a one-dimensional array with evenly spaced valeus (similar to range) using:"
   ]
  },
  {
   "cell_type": "code",
   "execution_count": 10,
   "metadata": {
    "colab": {
     "base_uri": "https://localhost:8080/"
    },
    "executionInfo": {
     "elapsed": 792,
     "status": "ok",
     "timestamp": 1616247487494,
     "user": {
      "displayName": "Guillaume Witz",
      "photoUrl": "https://lh3.googleusercontent.com/a-/AOh14GgT0K2JVYzEsjzsS5nhkUVjUrSIJ5jHzXnBoYrmVf8=s64",
      "userId": "16033870147214403532"
     },
     "user_tz": -60
    },
    "id": "uHZnR3vV2Oji",
    "outputId": "501d4356-3b4d-41ad-b68e-3b3accf25f21"
   },
   "outputs": [
    {
     "data": {
      "text/plain": [
       "array([ 0,  3,  6,  9, 12, 15, 18, 21, 24, 27])"
      ]
     },
     "execution_count": 10,
     "metadata": {
      "tags": []
     },
     "output_type": "execute_result"
    }
   ],
   "source": [
    "np.arange(0,30,3)"
   ]
  },
  {
   "cell_type": "markdown",
   "metadata": {
    "id": "PWBLj0h22Oji"
   },
   "source": [
    "## 6.2 Simple calculus with arrays"
   ]
  },
  {
   "cell_type": "markdown",
   "metadata": {
    "id": "7iNYVlHw2Oji"
   },
   "source": [
    "The beautiful thing with arrays, is that you can consider them like an object and forget that they are composed of multiple elements. For example we can just add a value to all all pixels using:"
   ]
  },
  {
   "cell_type": "code",
   "execution_count": 11,
   "metadata": {
    "colab": {
     "base_uri": "https://localhost:8080/"
    },
    "executionInfo": {
     "elapsed": 531,
     "status": "ok",
     "timestamp": 1616247490459,
     "user": {
      "displayName": "Guillaume Witz",
      "photoUrl": "https://lh3.googleusercontent.com/a-/AOh14GgT0K2JVYzEsjzsS5nhkUVjUrSIJ5jHzXnBoYrmVf8=s64",
      "userId": "16033870147214403532"
     },
     "user_tz": -60
    },
    "id": "3gHEKK4n2Ojj",
    "outputId": "e73f56fd-18b3-40e6-d32a-ca4a88493e72"
   },
   "outputs": [
    {
     "data": {
      "text/plain": [
       "array([[32., 32., 32., 32., 32., 32.],\n",
       "       [32., 32., 32., 32., 32., 32.],\n",
       "       [32., 32., 32., 32., 32., 32.],\n",
       "       [32., 32., 45., 32., 32., 32.]])"
      ]
     },
     "execution_count": 11,
     "metadata": {
      "tags": []
     },
     "output_type": "execute_result"
    }
   ],
   "source": [
    "myarray + 32"
   ]
  },
  {
   "cell_type": "markdown",
   "metadata": {
    "id": "B8mePU5I2Ojj"
   },
   "source": [
    "Of course as long as we don't reassign this new state to our variable it remains unchanged:"
   ]
  },
  {
   "cell_type": "code",
   "execution_count": 12,
   "metadata": {
    "colab": {
     "base_uri": "https://localhost:8080/"
    },
    "executionInfo": {
     "elapsed": 534,
     "status": "ok",
     "timestamp": 1616247491962,
     "user": {
      "displayName": "Guillaume Witz",
      "photoUrl": "https://lh3.googleusercontent.com/a-/AOh14GgT0K2JVYzEsjzsS5nhkUVjUrSIJ5jHzXnBoYrmVf8=s64",
      "userId": "16033870147214403532"
     },
     "user_tz": -60
    },
    "id": "lRBQqXX72Ojj",
    "outputId": "13941f50-e4e4-44e5-b378-dd7873e25e5d"
   },
   "outputs": [
    {
     "data": {
      "text/plain": [
       "array([[ 0.,  0.,  0.,  0.,  0.,  0.],\n",
       "       [ 0.,  0.,  0.,  0.,  0.,  0.],\n",
       "       [ 0.,  0.,  0.,  0.,  0.,  0.],\n",
       "       [ 0.,  0., 13.,  0.,  0.,  0.]])"
      ]
     },
     "execution_count": 12,
     "metadata": {
      "tags": []
     },
     "output_type": "execute_result"
    }
   ],
   "source": [
    "myarray"
   ]
  },
  {
   "cell_type": "markdown",
   "metadata": {
    "id": "zB6RdPSQ2Ojj"
   },
   "source": [
    "We have to write:"
   ]
  },
  {
   "cell_type": "code",
   "execution_count": 13,
   "metadata": {
    "executionInfo": {
     "elapsed": 589,
     "status": "ok",
     "timestamp": 1616247493157,
     "user": {
      "displayName": "Guillaume Witz",
      "photoUrl": "https://lh3.googleusercontent.com/a-/AOh14GgT0K2JVYzEsjzsS5nhkUVjUrSIJ5jHzXnBoYrmVf8=s64",
      "userId": "16033870147214403532"
     },
     "user_tz": -60
    },
    "id": "VVyf4d8I2Ojk"
   },
   "outputs": [],
   "source": [
    "myarray = myarray + 32"
   ]
  },
  {
   "cell_type": "code",
   "execution_count": 14,
   "metadata": {
    "colab": {
     "base_uri": "https://localhost:8080/"
    },
    "executionInfo": {
     "elapsed": 495,
     "status": "ok",
     "timestamp": 1616247494848,
     "user": {
      "displayName": "Guillaume Witz",
      "photoUrl": "https://lh3.googleusercontent.com/a-/AOh14GgT0K2JVYzEsjzsS5nhkUVjUrSIJ5jHzXnBoYrmVf8=s64",
      "userId": "16033870147214403532"
     },
     "user_tz": -60
    },
    "id": "utkPbh3G2Ojk",
    "outputId": "937c718d-89ea-4c20-f48f-68ed7f060148"
   },
   "outputs": [
    {
     "data": {
      "text/plain": [
       "array([[32., 32., 32., 32., 32., 32.],\n",
       "       [32., 32., 32., 32., 32., 32.],\n",
       "       [32., 32., 32., 32., 32., 32.],\n",
       "       [32., 32., 45., 32., 32., 32.]])"
      ]
     },
     "execution_count": 14,
     "metadata": {
      "tags": []
     },
     "output_type": "execute_result"
    }
   ],
   "source": [
    "myarray"
   ]
  },
  {
   "cell_type": "markdown",
   "metadata": {
    "id": "m5-OT2Wg2Ojk"
   },
   "source": [
    "Note that if we didn't have those nice Numpy properties, we would have to \"manually\" go through all pixels to adjust their values: "
   ]
  },
  {
   "cell_type": "code",
   "execution_count": 15,
   "metadata": {
    "executionInfo": {
     "elapsed": 739,
     "status": "ok",
     "timestamp": 1616247497016,
     "user": {
      "displayName": "Guillaume Witz",
      "photoUrl": "https://lh3.googleusercontent.com/a-/AOh14GgT0K2JVYzEsjzsS5nhkUVjUrSIJ5jHzXnBoYrmVf8=s64",
      "userId": "16033870147214403532"
     },
     "user_tz": -60
    },
    "id": "MWNeovif2Ojk"
   },
   "outputs": [],
   "source": [
    "for x in range(4):\n",
    "    for y in range(6):\n",
    "        myarray[x,y] = myarray[x,y] + 5"
   ]
  },
  {
   "cell_type": "code",
   "execution_count": 16,
   "metadata": {
    "colab": {
     "base_uri": "https://localhost:8080/"
    },
    "executionInfo": {
     "elapsed": 370,
     "status": "ok",
     "timestamp": 1616247497018,
     "user": {
      "displayName": "Guillaume Witz",
      "photoUrl": "https://lh3.googleusercontent.com/a-/AOh14GgT0K2JVYzEsjzsS5nhkUVjUrSIJ5jHzXnBoYrmVf8=s64",
      "userId": "16033870147214403532"
     },
     "user_tz": -60
    },
    "id": "_b5Cryng2Ojl",
    "outputId": "901d774d-0aca-4182-e175-d9e3bd5d3821"
   },
   "outputs": [
    {
     "data": {
      "text/plain": [
       "array([[37., 37., 37., 37., 37., 37.],\n",
       "       [37., 37., 37., 37., 37., 37.],\n",
       "       [37., 37., 37., 37., 37., 37.],\n",
       "       [37., 37., 50., 37., 37., 37.]])"
      ]
     },
     "execution_count": 16,
     "metadata": {
      "tags": []
     },
     "output_type": "execute_result"
    }
   ],
   "source": [
    "myarray"
   ]
  },
  {
   "cell_type": "markdown",
   "metadata": {
    "id": "F0WRZb6Y2Ojl"
   },
   "source": [
    "Of course we can do much more complex operations on these arrays. For example we can use the cosinus function of Numpy and apply it to the entire array:"
   ]
  },
  {
   "cell_type": "code",
   "execution_count": 18,
   "metadata": {
    "colab": {
     "base_uri": "https://localhost:8080/"
    },
    "executionInfo": {
     "elapsed": 731,
     "status": "ok",
     "timestamp": 1616247500543,
     "user": {
      "displayName": "Guillaume Witz",
      "photoUrl": "https://lh3.googleusercontent.com/a-/AOh14GgT0K2JVYzEsjzsS5nhkUVjUrSIJ5jHzXnBoYrmVf8=s64",
      "userId": "16033870147214403532"
     },
     "user_tz": -60
    },
    "id": "9S7uh7tv2Ojl",
    "outputId": "6a9c9050-48a0-466d-b50f-0dd9e98f0a08"
   },
   "outputs": [
    {
     "data": {
      "text/plain": [
       "array([[0.76541405, 0.76541405, 0.76541405, 0.76541405, 0.76541405,\n",
       "        0.76541405],\n",
       "       [0.76541405, 0.76541405, 0.76541405, 0.76541405, 0.76541405,\n",
       "        0.76541405],\n",
       "       [0.76541405, 0.76541405, 0.76541405, 0.76541405, 0.76541405,\n",
       "        0.76541405],\n",
       "       [0.76541405, 0.76541405, 0.96496603, 0.76541405, 0.76541405,\n",
       "        0.76541405]])"
      ]
     },
     "execution_count": 18,
     "metadata": {
      "tags": []
     },
     "output_type": "execute_result"
    }
   ],
   "source": [
    "np.cos(myarray)"
   ]
  },
  {
   "cell_type": "markdown",
   "metadata": {
    "id": "3MspOSEn2Ojl"
   },
   "source": [
    "## 6.3 Operations combining arrays"
   ]
  },
  {
   "cell_type": "markdown",
   "metadata": {
    "id": "PmY3kZVh2Ojm"
   },
   "source": [
    "In addition to operations that apply to entire arrays, we can do also operations combining multiple arrays. For example we can add two arrays:"
   ]
  },
  {
   "cell_type": "code",
   "execution_count": 19,
   "metadata": {
    "colab": {
     "base_uri": "https://localhost:8080/"
    },
    "executionInfo": {
     "elapsed": 541,
     "status": "ok",
     "timestamp": 1616247503303,
     "user": {
      "displayName": "Guillaume Witz",
      "photoUrl": "https://lh3.googleusercontent.com/a-/AOh14GgT0K2JVYzEsjzsS5nhkUVjUrSIJ5jHzXnBoYrmVf8=s64",
      "userId": "16033870147214403532"
     },
     "user_tz": -60
    },
    "id": "6BFc72QL2Ojm",
    "outputId": "e520fe8b-18ad-41d9-e7c6-d60b8cb7486c"
   },
   "outputs": [
    {
     "data": {
      "text/plain": [
       "array([[10., 10., 10., 10.],\n",
       "       [10., 10., 10., 10.],\n",
       "       [10., 10., 10., 10.],\n",
       "       [10., 10., 10., 10.]])"
      ]
     },
     "execution_count": 19,
     "metadata": {
      "tags": []
     },
     "output_type": "execute_result"
    }
   ],
   "source": [
    "myarray1 = 2*np.ones((4,4))\n",
    "myarray2 = 5*np.ones((4,4))\n",
    "myarray3 = myarray1 * myarray2\n",
    "myarray3"
   ]
  },
  {
   "cell_type": "markdown",
   "metadata": {
    "id": "CrLD35vm2Ojm"
   },
   "source": [
    "The one important constraint is of course that the two arrays used in an operation need to have the same size. Otherwise Numpy doesn't know which pairs of pixel to consider."
   ]
  },
  {
   "cell_type": "code",
   "execution_count": 20,
   "metadata": {
    "colab": {
     "base_uri": "https://localhost:8080/",
     "height": 198
    },
    "executionInfo": {
     "elapsed": 583,
     "status": "error",
     "timestamp": 1616247506734,
     "user": {
      "displayName": "Guillaume Witz",
      "photoUrl": "https://lh3.googleusercontent.com/a-/AOh14GgT0K2JVYzEsjzsS5nhkUVjUrSIJ5jHzXnBoYrmVf8=s64",
      "userId": "16033870147214403532"
     },
     "user_tz": -60
    },
    "id": "NwzUV6Ra2Ojm",
    "outputId": "5cc50d8a-cf58-45ee-d214-6b02a7cfbdc5"
   },
   "outputs": [
    {
     "ename": "ValueError",
     "evalue": "ignored",
     "output_type": "error",
     "traceback": [
      "\u001b[0;31m---------------------------------------------------------------------------\u001b[0m",
      "\u001b[0;31mValueError\u001b[0m                                Traceback (most recent call last)",
      "\u001b[0;32m<ipython-input-20-711b6095d77e>\u001b[0m in \u001b[0;36m<module>\u001b[0;34m()\u001b[0m\n\u001b[1;32m      1\u001b[0m \u001b[0mmyarray1\u001b[0m \u001b[0;34m=\u001b[0m \u001b[0;36m2\u001b[0m\u001b[0;34m*\u001b[0m\u001b[0mnp\u001b[0m\u001b[0;34m.\u001b[0m\u001b[0mones\u001b[0m\u001b[0;34m(\u001b[0m\u001b[0;34m(\u001b[0m\u001b[0;36m3\u001b[0m\u001b[0;34m,\u001b[0m\u001b[0;36m3\u001b[0m\u001b[0;34m)\u001b[0m\u001b[0;34m)\u001b[0m\u001b[0;34m\u001b[0m\u001b[0;34m\u001b[0m\u001b[0m\n\u001b[1;32m      2\u001b[0m \u001b[0mmyarray2\u001b[0m \u001b[0;34m=\u001b[0m \u001b[0;36m5\u001b[0m\u001b[0;34m*\u001b[0m\u001b[0mnp\u001b[0m\u001b[0;34m.\u001b[0m\u001b[0mones\u001b[0m\u001b[0;34m(\u001b[0m\u001b[0;34m(\u001b[0m\u001b[0;36m4\u001b[0m\u001b[0;34m,\u001b[0m\u001b[0;36m4\u001b[0m\u001b[0;34m)\u001b[0m\u001b[0;34m)\u001b[0m\u001b[0;34m\u001b[0m\u001b[0;34m\u001b[0m\u001b[0m\n\u001b[0;32m----> 3\u001b[0;31m \u001b[0mmyarray3\u001b[0m \u001b[0;34m=\u001b[0m \u001b[0mmyarray1\u001b[0m \u001b[0;34m*\u001b[0m \u001b[0mmyarray2\u001b[0m\u001b[0;34m\u001b[0m\u001b[0;34m\u001b[0m\u001b[0m\n\u001b[0m",
      "\u001b[0;31mValueError\u001b[0m: operands could not be broadcast together with shapes (3,3) (4,4) "
     ]
    }
   ],
   "source": [
    "myarray1 = 2*np.ones((3,3))\n",
    "myarray2 = 5*np.ones((4,4))\n",
    "myarray3 = myarray1 * myarray2"
   ]
  },
  {
   "cell_type": "markdown",
   "metadata": {
    "id": "kUWVRxsE2Ojm"
   },
   "source": [
    "## 6.4 Higher dimensions"
   ]
  },
  {
   "cell_type": "markdown",
   "metadata": {
    "id": "MzC-GfYs2Ojm"
   },
   "source": [
    "Until now we have almost only dealt with 2D arrays that look like a simple grid:"
   ]
  },
  {
   "cell_type": "code",
   "execution_count": 21,
   "metadata": {
    "colab": {
     "base_uri": "https://localhost:8080/",
     "height": 171
    },
    "executionInfo": {
     "elapsed": 709,
     "status": "ok",
     "timestamp": 1616247514948,
     "user": {
      "displayName": "Guillaume Witz",
      "photoUrl": "https://lh3.googleusercontent.com/a-/AOh14GgT0K2JVYzEsjzsS5nhkUVjUrSIJ5jHzXnBoYrmVf8=s64",
      "userId": "16033870147214403532"
     },
     "user_tz": -60
    },
    "id": "iy3JkQiT2Ojn",
    "outputId": "c28b7c9d-726c-4c0e-9f79-8ce1e5d1375e"
   },
   "outputs": [
    {
     "data": {
      "text/html": [
       "<svg width=\"250\" height=\"150\" style=\"stroke:rgb(0,0,0);stroke-width:1\" >\n",
       "\n",
       "  <!-- Horizontal lines -->\n",
       "  <line x1=\"0\" y1=\"0\" x2=\"200\" y2=\"0\" style=\"stroke-width:2\" />\n",
       "  <line x1=\"0\" y1=\"20\" x2=\"200\" y2=\"20\" />\n",
       "  <line x1=\"0\" y1=\"40\" x2=\"200\" y2=\"40\" />\n",
       "  <line x1=\"0\" y1=\"60\" x2=\"200\" y2=\"60\" />\n",
       "  <line x1=\"0\" y1=\"80\" x2=\"200\" y2=\"80\" />\n",
       "  <line x1=\"0\" y1=\"100\" x2=\"200\" y2=\"100\" style=\"stroke-width:2\" />\n",
       "\n",
       "  <!-- Vertical lines -->\n",
       "  <line x1=\"0\" y1=\"0\" x2=\"0\" y2=\"100\" style=\"stroke-width:2\" />\n",
       "  <line x1=\"20\" y1=\"0\" x2=\"20\" y2=\"100\" />\n",
       "  <line x1=\"40\" y1=\"0\" x2=\"40\" y2=\"100\" />\n",
       "  <line x1=\"60\" y1=\"0\" x2=\"60\" y2=\"100\" />\n",
       "  <line x1=\"80\" y1=\"0\" x2=\"80\" y2=\"100\" />\n",
       "  <line x1=\"100\" y1=\"0\" x2=\"100\" y2=\"100\" />\n",
       "  <line x1=\"120\" y1=\"0\" x2=\"120\" y2=\"100\" />\n",
       "  <line x1=\"140\" y1=\"0\" x2=\"140\" y2=\"100\" />\n",
       "  <line x1=\"160\" y1=\"0\" x2=\"160\" y2=\"100\" />\n",
       "  <line x1=\"180\" y1=\"0\" x2=\"180\" y2=\"100\" />\n",
       "  <line x1=\"200\" y1=\"0\" x2=\"200\" y2=\"100\" style=\"stroke-width:2\" />\n",
       "\n",
       "  <!-- Colored Rectangle -->\n",
       "  <polygon points=\"0.000000,0.000000 200.000000,0.000000 200.000000,100.000000 0.000000,100.000000\" style=\"fill:#ECB172A0;stroke-width:0\"/>\n",
       "\n",
       "  <!-- Text -->\n",
       "  <text x=\"100.000000\" y=\"120.000000\" font-size=\"1.0rem\" font-weight=\"100\" text-anchor=\"middle\" >10</text>\n",
       "  <text x=\"220.000000\" y=\"50.000000\" font-size=\"1.0rem\" font-weight=\"100\" text-anchor=\"middle\" transform=\"rotate(0,220.000000,50.000000)\">5</text>\n",
       "</svg>"
      ],
      "text/plain": [
       "<IPython.core.display.HTML object>"
      ]
     },
     "execution_count": 21,
     "metadata": {
      "tags": []
     },
     "output_type": "execute_result"
    }
   ],
   "source": [
    "myarray = np.ones((5,10))\n",
    "numpy_to_svg(myarray)"
   ]
  },
  {
   "cell_type": "markdown",
   "metadata": {
    "id": "cxXW6-hT2Ojn"
   },
   "source": [
    "We are not limited to create 1 or 2 dimensional arrays. We can basically create any-dimension array. For example if we do 3D imaging, we are going to have a series of planes assembled in a \"cube\". For example if we acquired 5 planes of a 10px by 10px image, we would have something like:"
   ]
  },
  {
   "cell_type": "code",
   "execution_count": 22,
   "metadata": {
    "executionInfo": {
     "elapsed": 668,
     "status": "ok",
     "timestamp": 1616247517864,
     "user": {
      "displayName": "Guillaume Witz",
      "photoUrl": "https://lh3.googleusercontent.com/a-/AOh14GgT0K2JVYzEsjzsS5nhkUVjUrSIJ5jHzXnBoYrmVf8=s64",
      "userId": "16033870147214403532"
     },
     "user_tz": -60
    },
    "id": "Vqfed2eK2Ojn"
   },
   "outputs": [],
   "source": [
    "array3D = np.ones((10,10,5))"
   ]
  },
  {
   "cell_type": "code",
   "execution_count": 23,
   "metadata": {
    "colab": {
     "base_uri": "https://localhost:8080/",
     "height": 388
    },
    "executionInfo": {
     "elapsed": 797,
     "status": "ok",
     "timestamp": 1616247518247,
     "user": {
      "displayName": "Guillaume Witz",
      "photoUrl": "https://lh3.googleusercontent.com/a-/AOh14GgT0K2JVYzEsjzsS5nhkUVjUrSIJ5jHzXnBoYrmVf8=s64",
      "userId": "16033870147214403532"
     },
     "user_tz": -60
    },
    "id": "9mDh5Fd72Ojn",
    "outputId": "e5dcd1d3-f808-4069-9ab2-6bae7954bc41"
   },
   "outputs": [
    {
     "data": {
      "text/html": [
       "<svg width=\"277\" height=\"367\" style=\"stroke:rgb(0,0,0);stroke-width:1\" >\n",
       "\n",
       "  <!-- Horizontal lines -->\n",
       "  <line x1=\"10\" y1=\"0\" x2=\"127\" y2=\"117\" style=\"stroke-width:2\" />\n",
       "  <line x1=\"10\" y1=\"20\" x2=\"127\" y2=\"137\" />\n",
       "  <line x1=\"10\" y1=\"40\" x2=\"127\" y2=\"157\" />\n",
       "  <line x1=\"10\" y1=\"60\" x2=\"127\" y2=\"177\" />\n",
       "  <line x1=\"10\" y1=\"80\" x2=\"127\" y2=\"197\" />\n",
       "  <line x1=\"10\" y1=\"100\" x2=\"127\" y2=\"217\" />\n",
       "  <line x1=\"10\" y1=\"120\" x2=\"127\" y2=\"237\" />\n",
       "  <line x1=\"10\" y1=\"140\" x2=\"127\" y2=\"257\" />\n",
       "  <line x1=\"10\" y1=\"160\" x2=\"127\" y2=\"277\" />\n",
       "  <line x1=\"10\" y1=\"180\" x2=\"127\" y2=\"297\" />\n",
       "  <line x1=\"10\" y1=\"200\" x2=\"127\" y2=\"317\" style=\"stroke-width:2\" />\n",
       "\n",
       "  <!-- Vertical lines -->\n",
       "  <line x1=\"10\" y1=\"0\" x2=\"10\" y2=\"200\" style=\"stroke-width:2\" />\n",
       "  <line x1=\"21\" y1=\"11\" x2=\"21\" y2=\"211\" />\n",
       "  <line x1=\"33\" y1=\"23\" x2=\"33\" y2=\"223\" />\n",
       "  <line x1=\"45\" y1=\"35\" x2=\"45\" y2=\"235\" />\n",
       "  <line x1=\"57\" y1=\"47\" x2=\"57\" y2=\"247\" />\n",
       "  <line x1=\"68\" y1=\"58\" x2=\"68\" y2=\"258\" />\n",
       "  <line x1=\"80\" y1=\"70\" x2=\"80\" y2=\"270\" />\n",
       "  <line x1=\"92\" y1=\"82\" x2=\"92\" y2=\"282\" />\n",
       "  <line x1=\"104\" y1=\"94\" x2=\"104\" y2=\"294\" />\n",
       "  <line x1=\"115\" y1=\"105\" x2=\"115\" y2=\"305\" />\n",
       "  <line x1=\"127\" y1=\"117\" x2=\"127\" y2=\"317\" style=\"stroke-width:2\" />\n",
       "\n",
       "  <!-- Colored Rectangle -->\n",
       "  <polygon points=\"10.000000,0.000000 127.647059,117.647059 127.647059,317.647059 10.000000,200.000000\" style=\"fill:#ECB172A0;stroke-width:0\"/>\n",
       "\n",
       "  <!-- Horizontal lines -->\n",
       "  <line x1=\"10\" y1=\"0\" x2=\"110\" y2=\"0\" style=\"stroke-width:2\" />\n",
       "  <line x1=\"21\" y1=\"11\" x2=\"121\" y2=\"11\" />\n",
       "  <line x1=\"33\" y1=\"23\" x2=\"133\" y2=\"23\" />\n",
       "  <line x1=\"45\" y1=\"35\" x2=\"145\" y2=\"35\" />\n",
       "  <line x1=\"57\" y1=\"47\" x2=\"157\" y2=\"47\" />\n",
       "  <line x1=\"68\" y1=\"58\" x2=\"168\" y2=\"58\" />\n",
       "  <line x1=\"80\" y1=\"70\" x2=\"180\" y2=\"70\" />\n",
       "  <line x1=\"92\" y1=\"82\" x2=\"192\" y2=\"82\" />\n",
       "  <line x1=\"104\" y1=\"94\" x2=\"204\" y2=\"94\" />\n",
       "  <line x1=\"115\" y1=\"105\" x2=\"215\" y2=\"105\" />\n",
       "  <line x1=\"127\" y1=\"117\" x2=\"227\" y2=\"117\" style=\"stroke-width:2\" />\n",
       "\n",
       "  <!-- Vertical lines -->\n",
       "  <line x1=\"10\" y1=\"0\" x2=\"127\" y2=\"117\" style=\"stroke-width:2\" />\n",
       "  <line x1=\"30\" y1=\"0\" x2=\"147\" y2=\"117\" />\n",
       "  <line x1=\"50\" y1=\"0\" x2=\"167\" y2=\"117\" />\n",
       "  <line x1=\"70\" y1=\"0\" x2=\"187\" y2=\"117\" />\n",
       "  <line x1=\"90\" y1=\"0\" x2=\"207\" y2=\"117\" />\n",
       "  <line x1=\"110\" y1=\"0\" x2=\"227\" y2=\"117\" style=\"stroke-width:2\" />\n",
       "\n",
       "  <!-- Colored Rectangle -->\n",
       "  <polygon points=\"10.000000,0.000000 110.000000,0.000000 227.647059,117.647059 127.647059,117.647059\" style=\"fill:#ECB172A0;stroke-width:0\"/>\n",
       "\n",
       "  <!-- Horizontal lines -->\n",
       "  <line x1=\"127\" y1=\"117\" x2=\"227\" y2=\"117\" style=\"stroke-width:2\" />\n",
       "  <line x1=\"127\" y1=\"137\" x2=\"227\" y2=\"137\" />\n",
       "  <line x1=\"127\" y1=\"157\" x2=\"227\" y2=\"157\" />\n",
       "  <line x1=\"127\" y1=\"177\" x2=\"227\" y2=\"177\" />\n",
       "  <line x1=\"127\" y1=\"197\" x2=\"227\" y2=\"197\" />\n",
       "  <line x1=\"127\" y1=\"217\" x2=\"227\" y2=\"217\" />\n",
       "  <line x1=\"127\" y1=\"237\" x2=\"227\" y2=\"237\" />\n",
       "  <line x1=\"127\" y1=\"257\" x2=\"227\" y2=\"257\" />\n",
       "  <line x1=\"127\" y1=\"277\" x2=\"227\" y2=\"277\" />\n",
       "  <line x1=\"127\" y1=\"297\" x2=\"227\" y2=\"297\" />\n",
       "  <line x1=\"127\" y1=\"317\" x2=\"227\" y2=\"317\" style=\"stroke-width:2\" />\n",
       "\n",
       "  <!-- Vertical lines -->\n",
       "  <line x1=\"127\" y1=\"117\" x2=\"127\" y2=\"317\" style=\"stroke-width:2\" />\n",
       "  <line x1=\"147\" y1=\"117\" x2=\"147\" y2=\"317\" />\n",
       "  <line x1=\"167\" y1=\"117\" x2=\"167\" y2=\"317\" />\n",
       "  <line x1=\"187\" y1=\"117\" x2=\"187\" y2=\"317\" />\n",
       "  <line x1=\"207\" y1=\"117\" x2=\"207\" y2=\"317\" />\n",
       "  <line x1=\"227\" y1=\"117\" x2=\"227\" y2=\"317\" style=\"stroke-width:2\" />\n",
       "\n",
       "  <!-- Colored Rectangle -->\n",
       "  <polygon points=\"127.647059,117.647059 227.647059,117.647059 227.647059,317.647059 127.647059,317.647059\" style=\"fill:#ECB172A0;stroke-width:0\"/>\n",
       "\n",
       "  <!-- Text -->\n",
       "  <text x=\"177.647059\" y=\"337.647059\" font-size=\"1.0rem\" font-weight=\"100\" text-anchor=\"middle\" >5</text>\n",
       "  <text x=\"247.647059\" y=\"217.647059\" font-size=\"1.0rem\" font-weight=\"100\" text-anchor=\"middle\" transform=\"rotate(0,247.647059,217.647059)\">10</text>\n",
       "  <text x=\"58.823529\" y=\"278.823529\" font-size=\"1.0rem\" font-weight=\"100\" text-anchor=\"middle\" transform=\"rotate(45,58.823529,278.823529)\">10</text>\n",
       "</svg>"
      ],
      "text/plain": [
       "<IPython.core.display.HTML object>"
      ]
     },
     "execution_count": 23,
     "metadata": {
      "tags": []
     },
     "output_type": "execute_result"
    }
   ],
   "source": [
    "numpy_to_svg(array3D)"
   ]
  },
  {
   "cell_type": "markdown",
   "metadata": {
    "id": "NGvDnyJ72Ojo"
   },
   "source": [
    "In higher dimensions, the array content output is not very readable. To know what we are dealing with, an **extremely** helpul property associated to arrays is shape:"
   ]
  },
  {
   "cell_type": "code",
   "execution_count": 24,
   "metadata": {
    "colab": {
     "base_uri": "https://localhost:8080/"
    },
    "executionInfo": {
     "elapsed": 456,
     "status": "ok",
     "timestamp": 1616247520675,
     "user": {
      "displayName": "Guillaume Witz",
      "photoUrl": "https://lh3.googleusercontent.com/a-/AOh14GgT0K2JVYzEsjzsS5nhkUVjUrSIJ5jHzXnBoYrmVf8=s64",
      "userId": "16033870147214403532"
     },
     "user_tz": -60
    },
    "id": "xTSnEYbm2Ojo",
    "outputId": "e8fbc3fb-4765-4a6e-a686-5c22b9665bf1"
   },
   "outputs": [
    {
     "data": {
      "text/plain": [
       "(10, 10, 5)"
      ]
     },
     "execution_count": 24,
     "metadata": {
      "tags": []
     },
     "output_type": "execute_result"
    }
   ],
   "source": [
    "array3D.shape"
   ]
  },
  {
   "cell_type": "markdown",
   "metadata": {
    "id": "8St0sVfx2Ojo"
   },
   "source": [
    "This gives us the size of the array in each dimension.\n",
    "\n",
    "**Note that shape, which is a parameter of the array, is used almost like a method, however without parenthesis.**"
   ]
  },
  {
   "cell_type": "markdown",
   "metadata": {
    "id": "yCTLA5pa2Ojo"
   },
   "source": [
    "## 6.5 Methods and parameters of arrays"
   ]
  },
  {
   "cell_type": "markdown",
   "metadata": {
    "id": "FO2q252b2Ojo"
   },
   "source": [
    "Just like variables and structures, arrays have also associated methods. As we have just seen, they also have associated parameters that one can call without (). \n",
    "\n",
    "Sometimes it is unclear whether we deal with a method or parameter. Just try and see what gives an error!\n",
    "\n",
    "These methods/parameters give a lot of information on the array and are very helpful. For example, one can ask what is the largest element:"
   ]
  },
  {
   "cell_type": "code",
   "execution_count": 25,
   "metadata": {
    "colab": {
     "base_uri": "https://localhost:8080/"
    },
    "executionInfo": {
     "elapsed": 559,
     "status": "ok",
     "timestamp": 1616247527416,
     "user": {
      "displayName": "Guillaume Witz",
      "photoUrl": "https://lh3.googleusercontent.com/a-/AOh14GgT0K2JVYzEsjzsS5nhkUVjUrSIJ5jHzXnBoYrmVf8=s64",
      "userId": "16033870147214403532"
     },
     "user_tz": -60
    },
    "id": "oku5BCrq2Ojo",
    "outputId": "a8c5af76-6317-46aa-d7e5-2a98d80a3f6e"
   },
   "outputs": [
    {
     "data": {
      "text/plain": [
       "<function ndarray.max>"
      ]
     },
     "execution_count": 25,
     "metadata": {
      "tags": []
     },
     "output_type": "execute_result"
    }
   ],
   "source": [
    "myarray.max"
   ]
  },
  {
   "cell_type": "markdown",
   "metadata": {
    "id": "TIg_UbpF2Ojp"
   },
   "source": [
    "This indicates that we actually deal with a method:"
   ]
  },
  {
   "cell_type": "code",
   "execution_count": 26,
   "metadata": {
    "colab": {
     "base_uri": "https://localhost:8080/"
    },
    "executionInfo": {
     "elapsed": 786,
     "status": "ok",
     "timestamp": 1616247528433,
     "user": {
      "displayName": "Guillaume Witz",
      "photoUrl": "https://lh3.googleusercontent.com/a-/AOh14GgT0K2JVYzEsjzsS5nhkUVjUrSIJ5jHzXnBoYrmVf8=s64",
      "userId": "16033870147214403532"
     },
     "user_tz": -60
    },
    "id": "5suXfChJ2Ojp",
    "outputId": "64d18a8e-5d26-4ba6-f533-fb3e46df12c5"
   },
   "outputs": [
    {
     "data": {
      "text/plain": [
       "1.0"
      ]
     },
     "execution_count": 26,
     "metadata": {
      "tags": []
     },
     "output_type": "execute_result"
    }
   ],
   "source": [
    "myarray.max()"
   ]
  },
  {
   "cell_type": "markdown",
   "metadata": {
    "id": "p2eZkjD_2Ojp"
   },
   "source": [
    "We can also e.g. calculate the sum of all elements:"
   ]
  },
  {
   "cell_type": "code",
   "execution_count": 27,
   "metadata": {
    "colab": {
     "base_uri": "https://localhost:8080/"
    },
    "executionInfo": {
     "elapsed": 564,
     "status": "ok",
     "timestamp": 1616247530226,
     "user": {
      "displayName": "Guillaume Witz",
      "photoUrl": "https://lh3.googleusercontent.com/a-/AOh14GgT0K2JVYzEsjzsS5nhkUVjUrSIJ5jHzXnBoYrmVf8=s64",
      "userId": "16033870147214403532"
     },
     "user_tz": -60
    },
    "id": "zOGzUcZa2Ojt",
    "outputId": "39a1fd62-592e-4ee1-cf1a-ea11e5aa5e62"
   },
   "outputs": [
    {
     "data": {
      "text/plain": [
       "50.0"
      ]
     },
     "execution_count": 27,
     "metadata": {
      "tags": []
     },
     "output_type": "execute_result"
    }
   ],
   "source": [
    "myarray.sum()"
   ]
  },
  {
   "cell_type": "markdown",
   "metadata": {
    "id": "eM1dwibj2Ojt"
   },
   "source": [
    "You can actively read the documentation to lear about all methods. The simplest is usually just to do a [Google Search](https://www.google.com/search?ei=5rd2XKqwN8SUsAfj7IuICw&q=sum+of+numpy+array&oq=sum+of+numpy+array&gs_l=psy-ab.3..0i7i30l7j0i203l2j0i5i30.23694.24024..24373...0.0..0.66.193.3......0....1..gws-wiz.......0i71.0RxePnmQfcg) for whatever you are looking for."
   ]
  },
  {
   "cell_type": "markdown",
   "metadata": {
    "id": "Mys9ytER2Ojt"
   },
   "source": [
    "## 6.6 Logical operations"
   ]
  },
  {
   "cell_type": "markdown",
   "metadata": {
    "id": "aBYE6AXG2Oju"
   },
   "source": [
    "Just like variables, arrays can be composed of booleans. Usually they are obtained by using a logical operation on a standard array:"
   ]
  },
  {
   "cell_type": "code",
   "execution_count": 28,
   "metadata": {
    "colab": {
     "base_uri": "https://localhost:8080/"
    },
    "executionInfo": {
     "elapsed": 617,
     "status": "ok",
     "timestamp": 1616247534190,
     "user": {
      "displayName": "Guillaume Witz",
      "photoUrl": "https://lh3.googleusercontent.com/a-/AOh14GgT0K2JVYzEsjzsS5nhkUVjUrSIJ5jHzXnBoYrmVf8=s64",
      "userId": "16033870147214403532"
     },
     "user_tz": -60
    },
    "id": "5oFiTWHo2Oju",
    "outputId": "fc9d1d9d-c62b-42be-e5f4-28dcedb05e85"
   },
   "outputs": [
    {
     "data": {
      "text/plain": [
       "array([[0., 0., 0., 0.],\n",
       "       [0., 0., 0., 0.],\n",
       "       [0., 0., 0., 1.],\n",
       "       [0., 0., 0., 0.]])"
      ]
     },
     "execution_count": 28,
     "metadata": {
      "tags": []
     },
     "output_type": "execute_result"
    }
   ],
   "source": [
    "myarray = np.zeros((4,4))\n",
    "myarray[2,3] = 1\n",
    "myarray"
   ]
  },
  {
   "cell_type": "code",
   "execution_count": 29,
   "metadata": {
    "colab": {
     "base_uri": "https://localhost:8080/"
    },
    "executionInfo": {
     "elapsed": 542,
     "status": "ok",
     "timestamp": 1616247535525,
     "user": {
      "displayName": "Guillaume Witz",
      "photoUrl": "https://lh3.googleusercontent.com/a-/AOh14GgT0K2JVYzEsjzsS5nhkUVjUrSIJ5jHzXnBoYrmVf8=s64",
      "userId": "16033870147214403532"
     },
     "user_tz": -60
    },
    "id": "IPzALsPt2Oju",
    "outputId": "5bb61a4e-da48-4bab-f7d8-d51751a48e16"
   },
   "outputs": [
    {
     "data": {
      "text/plain": [
       "array([[False, False, False, False],\n",
       "       [False, False, False, False],\n",
       "       [False, False, False,  True],\n",
       "       [False, False, False, False]])"
      ]
     },
     "execution_count": 29,
     "metadata": {
      "tags": []
     },
     "output_type": "execute_result"
    }
   ],
   "source": [
    "myarray > 0"
   ]
  },
  {
   "cell_type": "markdown",
   "metadata": {
    "id": "KtniuTTI2Oju"
   },
   "source": [
    "Exactly as for simple variables, we can assign this boolean array to a new variable directly:"
   ]
  },
  {
   "cell_type": "code",
   "execution_count": 30,
   "metadata": {
    "executionInfo": {
     "elapsed": 378,
     "status": "ok",
     "timestamp": 1616247536793,
     "user": {
      "displayName": "Guillaume Witz",
      "photoUrl": "https://lh3.googleusercontent.com/a-/AOh14GgT0K2JVYzEsjzsS5nhkUVjUrSIJ5jHzXnBoYrmVf8=s64",
      "userId": "16033870147214403532"
     },
     "user_tz": -60
    },
    "id": "Zvo048nl2Oju"
   },
   "outputs": [],
   "source": [
    "myboolean = myarray > 0"
   ]
  },
  {
   "cell_type": "code",
   "execution_count": 31,
   "metadata": {
    "colab": {
     "base_uri": "https://localhost:8080/"
    },
    "executionInfo": {
     "elapsed": 592,
     "status": "ok",
     "timestamp": 1616247538160,
     "user": {
      "displayName": "Guillaume Witz",
      "photoUrl": "https://lh3.googleusercontent.com/a-/AOh14GgT0K2JVYzEsjzsS5nhkUVjUrSIJ5jHzXnBoYrmVf8=s64",
      "userId": "16033870147214403532"
     },
     "user_tz": -60
    },
    "id": "hoNitifV2Oju",
    "outputId": "67e118d0-9477-4cf6-ecc9-cddf1151deed"
   },
   "outputs": [
    {
     "data": {
      "text/plain": [
       "array([[False, False, False, False],\n",
       "       [False, False, False, False],\n",
       "       [False, False, False,  True],\n",
       "       [False, False, False, False]])"
      ]
     },
     "execution_count": 31,
     "metadata": {
      "tags": []
     },
     "output_type": "execute_result"
    }
   ],
   "source": [
    "myboolean"
   ]
  },
  {
   "cell_type": "markdown",
   "metadata": {
    "id": "KFXJl9q72Ojv"
   },
   "source": [
    "## 6.7 Array slicing"
   ]
  },
  {
   "cell_type": "markdown",
   "metadata": {
    "id": "Do1rec-F2Ojv"
   },
   "source": [
    "A vast chapter is array slicing, the fact to only consider a part of an array, as when cropping an image for example. We are however going to treat that part later using actual images, to make the examples more understandable."
   ]
  },
  {
   "cell_type": "code",
   "execution_count": null,
   "metadata": {
    "id": "itR31wwx2Ojv"
   },
   "outputs": [],
   "source": []
  }
 ],
 "metadata": {
  "colab": {
   "collapsed_sections": [],
   "name": "06-Numpy_basics.ipynb",
   "provenance": []
  },
  "kernelspec": {
   "display_name": "Python 3",
   "language": "python",
   "name": "python3"
  },
  "language_info": {
   "codemirror_mode": {
    "name": "ipython",
    "version": 3
   },
   "file_extension": ".py",
   "mimetype": "text/x-python",
   "name": "python",
   "nbconvert_exporter": "python",
   "pygments_lexer": "ipython3",
   "version": "3.9.2"
  },
  "toc": {
   "base_numbering": 1,
   "nav_menu": {},
   "number_sections": false,
   "sideBar": true,
   "skip_h1_title": false,
   "title_cell": "Table of Contents",
   "title_sidebar": "Contents",
   "toc_cell": false,
   "toc_position": {},
   "toc_section_display": true,
   "toc_window_display": true
  }
 },
 "nbformat": 4,
 "nbformat_minor": 4
}
